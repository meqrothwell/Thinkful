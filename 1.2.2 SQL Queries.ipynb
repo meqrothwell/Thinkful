{
 "cells": [
  {
   "cell_type": "markdown",
   "metadata": {},
   "source": [
    "The ID's and durations for all trips of duration greater than 500, ordered by duration.\n"
   ]
  },
  {
   "cell_type": "markdown",
   "metadata": {},
   "source": [
    "select\n",
    "\ttrip_id,\n",
    "\tduration\n",
    "from\n",
    "\ttrips\n",
    "where\n",
    "\tduration > 500\n",
    "order by duration\n",
    "\n",
    "** this mixes in four-digit durations amongst the three-digit ones, not at the end where I would expect to see them. "
   ]
  },
  {
   "cell_type": "markdown",
   "metadata": {},
   "source": [
    "Every column of the stations table for station id 84.\n"
   ]
  },
  {
   "cell_type": "markdown",
   "metadata": {},
   "source": [
    "select\n",
    "\t*\n",
    "from\n",
    "\tstations\n",
    "where\n",
    "\tstation_id = 84"
   ]
  },
  {
   "cell_type": "markdown",
   "metadata": {},
   "source": [
    "The min temperatures of all the occurrences of rain in zip 94301.\n"
   ]
  },
  {
   "cell_type": "markdown",
   "metadata": {},
   "source": [
    "select\n",
    "\tMinTemperatureF\n",
    "from\n",
    "\tweather\n",
    "where\n",
    "\tEvents like 'Rain' and\n",
    "\tZIP = '94301'"
   ]
  }
 ],
 "metadata": {
  "kernelspec": {
   "display_name": "Python 3",
   "language": "python",
   "name": "python3"
  },
  "language_info": {
   "codemirror_mode": {
    "name": "ipython",
    "version": 3
   },
   "file_extension": ".py",
   "mimetype": "text/x-python",
   "name": "python",
   "nbconvert_exporter": "python",
   "pygments_lexer": "ipython3",
   "version": "3.5.1"
  }
 },
 "nbformat": 4,
 "nbformat_minor": 2
}
