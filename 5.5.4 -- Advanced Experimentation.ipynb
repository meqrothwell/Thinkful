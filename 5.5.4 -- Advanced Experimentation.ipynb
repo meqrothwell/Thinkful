{
 "cells": [
  {
   "cell_type": "code",
   "execution_count": 1,
   "metadata": {
    "collapsed": true
   },
   "outputs": [],
   "source": [
    "import pandas as pd\n",
    "import numpy as np\n",
    "import matplotlib.pyplot as plt\n",
    "import scipy.stats as stats\n",
    "%matplotlib inline"
   ]
  },
  {
   "cell_type": "code",
   "execution_count": 2,
   "metadata": {},
   "outputs": [],
   "source": [
    "df = pd.read_csv('ESSdata_Thinkful.csv')"
   ]
  },
  {
   "cell_type": "code",
   "execution_count": 3,
   "metadata": {},
   "outputs": [
    {
     "data": {
      "text/html": [
       "<div>\n",
       "<style>\n",
       "    .dataframe thead tr:only-child th {\n",
       "        text-align: right;\n",
       "    }\n",
       "\n",
       "    .dataframe thead th {\n",
       "        text-align: left;\n",
       "    }\n",
       "\n",
       "    .dataframe tbody tr th {\n",
       "        vertical-align: top;\n",
       "    }\n",
       "</style>\n",
       "<table border=\"1\" class=\"dataframe\">\n",
       "  <thead>\n",
       "    <tr style=\"text-align: right;\">\n",
       "      <th></th>\n",
       "      <th>cntry</th>\n",
       "      <th>idno</th>\n",
       "      <th>year</th>\n",
       "      <th>tvtot</th>\n",
       "      <th>ppltrst</th>\n",
       "      <th>pplfair</th>\n",
       "      <th>pplhlp</th>\n",
       "      <th>happy</th>\n",
       "      <th>sclmeet</th>\n",
       "      <th>sclact</th>\n",
       "      <th>gndr</th>\n",
       "      <th>agea</th>\n",
       "      <th>partner</th>\n",
       "    </tr>\n",
       "  </thead>\n",
       "  <tbody>\n",
       "    <tr>\n",
       "      <th>0</th>\n",
       "      <td>CH</td>\n",
       "      <td>5.0</td>\n",
       "      <td>6</td>\n",
       "      <td>3.0</td>\n",
       "      <td>3.0</td>\n",
       "      <td>10.0</td>\n",
       "      <td>5.0</td>\n",
       "      <td>8.0</td>\n",
       "      <td>5.0</td>\n",
       "      <td>4.0</td>\n",
       "      <td>2.0</td>\n",
       "      <td>60.0</td>\n",
       "      <td>1.0</td>\n",
       "    </tr>\n",
       "    <tr>\n",
       "      <th>1</th>\n",
       "      <td>CH</td>\n",
       "      <td>25.0</td>\n",
       "      <td>6</td>\n",
       "      <td>6.0</td>\n",
       "      <td>5.0</td>\n",
       "      <td>7.0</td>\n",
       "      <td>5.0</td>\n",
       "      <td>9.0</td>\n",
       "      <td>3.0</td>\n",
       "      <td>2.0</td>\n",
       "      <td>2.0</td>\n",
       "      <td>59.0</td>\n",
       "      <td>1.0</td>\n",
       "    </tr>\n",
       "    <tr>\n",
       "      <th>2</th>\n",
       "      <td>CH</td>\n",
       "      <td>26.0</td>\n",
       "      <td>6</td>\n",
       "      <td>1.0</td>\n",
       "      <td>8.0</td>\n",
       "      <td>8.0</td>\n",
       "      <td>8.0</td>\n",
       "      <td>7.0</td>\n",
       "      <td>6.0</td>\n",
       "      <td>3.0</td>\n",
       "      <td>1.0</td>\n",
       "      <td>24.0</td>\n",
       "      <td>2.0</td>\n",
       "    </tr>\n",
       "    <tr>\n",
       "      <th>3</th>\n",
       "      <td>CH</td>\n",
       "      <td>28.0</td>\n",
       "      <td>6</td>\n",
       "      <td>4.0</td>\n",
       "      <td>6.0</td>\n",
       "      <td>6.0</td>\n",
       "      <td>7.0</td>\n",
       "      <td>10.0</td>\n",
       "      <td>6.0</td>\n",
       "      <td>2.0</td>\n",
       "      <td>2.0</td>\n",
       "      <td>64.0</td>\n",
       "      <td>1.0</td>\n",
       "    </tr>\n",
       "    <tr>\n",
       "      <th>4</th>\n",
       "      <td>CH</td>\n",
       "      <td>29.0</td>\n",
       "      <td>6</td>\n",
       "      <td>5.0</td>\n",
       "      <td>6.0</td>\n",
       "      <td>7.0</td>\n",
       "      <td>5.0</td>\n",
       "      <td>8.0</td>\n",
       "      <td>7.0</td>\n",
       "      <td>2.0</td>\n",
       "      <td>2.0</td>\n",
       "      <td>55.0</td>\n",
       "      <td>1.0</td>\n",
       "    </tr>\n",
       "  </tbody>\n",
       "</table>\n",
       "</div>"
      ],
      "text/plain": [
       "  cntry  idno  year  tvtot  ppltrst  pplfair  pplhlp  happy  sclmeet  sclact  \\\n",
       "0    CH   5.0     6    3.0      3.0     10.0     5.0    8.0      5.0     4.0   \n",
       "1    CH  25.0     6    6.0      5.0      7.0     5.0    9.0      3.0     2.0   \n",
       "2    CH  26.0     6    1.0      8.0      8.0     8.0    7.0      6.0     3.0   \n",
       "3    CH  28.0     6    4.0      6.0      6.0     7.0   10.0      6.0     2.0   \n",
       "4    CH  29.0     6    5.0      6.0      7.0     5.0    8.0      7.0     2.0   \n",
       "\n",
       "   gndr  agea  partner  \n",
       "0   2.0  60.0      1.0  \n",
       "1   2.0  59.0      1.0  \n",
       "2   1.0  24.0      2.0  \n",
       "3   2.0  64.0      1.0  \n",
       "4   2.0  55.0      1.0  "
      ]
     },
     "execution_count": 3,
     "metadata": {},
     "output_type": "execute_result"
    }
   ],
   "source": [
    "df.head()"
   ]
  },
  {
   "cell_type": "code",
   "execution_count": 4,
   "metadata": {},
   "outputs": [
    {
     "data": {
      "text/html": [
       "<div>\n",
       "<style>\n",
       "    .dataframe thead tr:only-child th {\n",
       "        text-align: right;\n",
       "    }\n",
       "\n",
       "    .dataframe thead th {\n",
       "        text-align: left;\n",
       "    }\n",
       "\n",
       "    .dataframe tbody tr th {\n",
       "        vertical-align: top;\n",
       "    }\n",
       "</style>\n",
       "<table border=\"1\" class=\"dataframe\">\n",
       "  <thead>\n",
       "    <tr style=\"text-align: right;\">\n",
       "      <th></th>\n",
       "      <th>idno</th>\n",
       "      <th>year</th>\n",
       "      <th>tvtot</th>\n",
       "      <th>ppltrst</th>\n",
       "      <th>pplfair</th>\n",
       "      <th>pplhlp</th>\n",
       "      <th>happy</th>\n",
       "      <th>sclmeet</th>\n",
       "      <th>sclact</th>\n",
       "      <th>gndr</th>\n",
       "      <th>agea</th>\n",
       "      <th>partner</th>\n",
       "    </tr>\n",
       "  </thead>\n",
       "  <tbody>\n",
       "    <tr>\n",
       "      <th>count</th>\n",
       "      <td>8.594000e+03</td>\n",
       "      <td>8594.000000</td>\n",
       "      <td>8586.000000</td>\n",
       "      <td>8580.000000</td>\n",
       "      <td>8555.000000</td>\n",
       "      <td>8569.000000</td>\n",
       "      <td>8563.000000</td>\n",
       "      <td>8579.000000</td>\n",
       "      <td>8500.000000</td>\n",
       "      <td>8584.000000</td>\n",
       "      <td>8355.000000</td>\n",
       "      <td>8577.000000</td>\n",
       "    </tr>\n",
       "    <tr>\n",
       "      <th>mean</th>\n",
       "      <td>3.954938e+04</td>\n",
       "      <td>6.500000</td>\n",
       "      <td>3.861985</td>\n",
       "      <td>5.559907</td>\n",
       "      <td>6.005143</td>\n",
       "      <td>5.319874</td>\n",
       "      <td>7.694616</td>\n",
       "      <td>5.192563</td>\n",
       "      <td>2.748941</td>\n",
       "      <td>1.497204</td>\n",
       "      <td>47.470736</td>\n",
       "      <td>1.384867</td>\n",
       "    </tr>\n",
       "    <tr>\n",
       "      <th>std</th>\n",
       "      <td>6.267259e+05</td>\n",
       "      <td>0.500029</td>\n",
       "      <td>2.019689</td>\n",
       "      <td>2.233700</td>\n",
       "      <td>2.129866</td>\n",
       "      <td>2.173449</td>\n",
       "      <td>1.735904</td>\n",
       "      <td>1.457643</td>\n",
       "      <td>0.905477</td>\n",
       "      <td>0.500021</td>\n",
       "      <td>18.397369</td>\n",
       "      <td>0.486592</td>\n",
       "    </tr>\n",
       "    <tr>\n",
       "      <th>min</th>\n",
       "      <td>1.000000e+00</td>\n",
       "      <td>6.000000</td>\n",
       "      <td>0.000000</td>\n",
       "      <td>0.000000</td>\n",
       "      <td>0.000000</td>\n",
       "      <td>0.000000</td>\n",
       "      <td>0.000000</td>\n",
       "      <td>1.000000</td>\n",
       "      <td>1.000000</td>\n",
       "      <td>1.000000</td>\n",
       "      <td>15.000000</td>\n",
       "      <td>1.000000</td>\n",
       "    </tr>\n",
       "    <tr>\n",
       "      <th>25%</th>\n",
       "      <td>1.052000e+03</td>\n",
       "      <td>6.000000</td>\n",
       "      <td>2.000000</td>\n",
       "      <td>4.000000</td>\n",
       "      <td>5.000000</td>\n",
       "      <td>4.000000</td>\n",
       "      <td>7.000000</td>\n",
       "      <td>4.000000</td>\n",
       "      <td>2.000000</td>\n",
       "      <td>1.000000</td>\n",
       "      <td>33.000000</td>\n",
       "      <td>1.000000</td>\n",
       "    </tr>\n",
       "    <tr>\n",
       "      <th>50%</th>\n",
       "      <td>1.714000e+03</td>\n",
       "      <td>6.500000</td>\n",
       "      <td>4.000000</td>\n",
       "      <td>6.000000</td>\n",
       "      <td>6.000000</td>\n",
       "      <td>5.000000</td>\n",
       "      <td>8.000000</td>\n",
       "      <td>6.000000</td>\n",
       "      <td>3.000000</td>\n",
       "      <td>1.000000</td>\n",
       "      <td>47.000000</td>\n",
       "      <td>1.000000</td>\n",
       "    </tr>\n",
       "    <tr>\n",
       "      <th>75%</th>\n",
       "      <td>2.745000e+03</td>\n",
       "      <td>7.000000</td>\n",
       "      <td>5.000000</td>\n",
       "      <td>7.000000</td>\n",
       "      <td>8.000000</td>\n",
       "      <td>7.000000</td>\n",
       "      <td>9.000000</td>\n",
       "      <td>6.000000</td>\n",
       "      <td>3.000000</td>\n",
       "      <td>2.000000</td>\n",
       "      <td>62.000000</td>\n",
       "      <td>2.000000</td>\n",
       "    </tr>\n",
       "    <tr>\n",
       "      <th>max</th>\n",
       "      <td>1.100143e+07</td>\n",
       "      <td>7.000000</td>\n",
       "      <td>7.000000</td>\n",
       "      <td>10.000000</td>\n",
       "      <td>10.000000</td>\n",
       "      <td>10.000000</td>\n",
       "      <td>10.000000</td>\n",
       "      <td>7.000000</td>\n",
       "      <td>5.000000</td>\n",
       "      <td>2.000000</td>\n",
       "      <td>114.000000</td>\n",
       "      <td>2.000000</td>\n",
       "    </tr>\n",
       "  </tbody>\n",
       "</table>\n",
       "</div>"
      ],
      "text/plain": [
       "               idno         year        tvtot      ppltrst      pplfair  \\\n",
       "count  8.594000e+03  8594.000000  8586.000000  8580.000000  8555.000000   \n",
       "mean   3.954938e+04     6.500000     3.861985     5.559907     6.005143   \n",
       "std    6.267259e+05     0.500029     2.019689     2.233700     2.129866   \n",
       "min    1.000000e+00     6.000000     0.000000     0.000000     0.000000   \n",
       "25%    1.052000e+03     6.000000     2.000000     4.000000     5.000000   \n",
       "50%    1.714000e+03     6.500000     4.000000     6.000000     6.000000   \n",
       "75%    2.745000e+03     7.000000     5.000000     7.000000     8.000000   \n",
       "max    1.100143e+07     7.000000     7.000000    10.000000    10.000000   \n",
       "\n",
       "            pplhlp        happy      sclmeet       sclact         gndr  \\\n",
       "count  8569.000000  8563.000000  8579.000000  8500.000000  8584.000000   \n",
       "mean      5.319874     7.694616     5.192563     2.748941     1.497204   \n",
       "std       2.173449     1.735904     1.457643     0.905477     0.500021   \n",
       "min       0.000000     0.000000     1.000000     1.000000     1.000000   \n",
       "25%       4.000000     7.000000     4.000000     2.000000     1.000000   \n",
       "50%       5.000000     8.000000     6.000000     3.000000     1.000000   \n",
       "75%       7.000000     9.000000     6.000000     3.000000     2.000000   \n",
       "max      10.000000    10.000000     7.000000     5.000000     2.000000   \n",
       "\n",
       "              agea      partner  \n",
       "count  8355.000000  8577.000000  \n",
       "mean     47.470736     1.384867  \n",
       "std      18.397369     0.486592  \n",
       "min      15.000000     1.000000  \n",
       "25%      33.000000     1.000000  \n",
       "50%      47.000000     1.000000  \n",
       "75%      62.000000     2.000000  \n",
       "max     114.000000     2.000000  "
      ]
     },
     "execution_count": 4,
     "metadata": {},
     "output_type": "execute_result"
    }
   ],
   "source": [
    "df.describe()"
   ]
  },
  {
   "cell_type": "code",
   "execution_count": 5,
   "metadata": {},
   "outputs": [
    {
     "data": {
      "text/plain": [
       "cntry        0\n",
       "idno         0\n",
       "year         0\n",
       "tvtot        8\n",
       "ppltrst     14\n",
       "pplfair     39\n",
       "pplhlp      25\n",
       "happy       31\n",
       "sclmeet     15\n",
       "sclact      94\n",
       "gndr        10\n",
       "agea       239\n",
       "partner     17\n",
       "dtype: int64"
      ]
     },
     "execution_count": 5,
     "metadata": {},
     "output_type": "execute_result"
    }
   ],
   "source": [
    "df.isnull().sum()"
   ]
  },
  {
   "cell_type": "code",
   "execution_count": 6,
   "metadata": {},
   "outputs": [
    {
     "data": {
      "text/plain": [
       "cntry      0\n",
       "idno       0\n",
       "year       0\n",
       "tvtot      0\n",
       "ppltrst    0\n",
       "pplfair    0\n",
       "pplhlp     0\n",
       "happy      0\n",
       "sclmeet    0\n",
       "sclact     0\n",
       "gndr       0\n",
       "agea       0\n",
       "partner    0\n",
       "dtype: int64"
      ]
     },
     "execution_count": 6,
     "metadata": {},
     "output_type": "execute_result"
    }
   ],
   "source": [
    "df = df.fillna(df.median())\n",
    "df.isnull().sum()"
   ]
  },
  {
   "cell_type": "code",
   "execution_count": 7,
   "metadata": {},
   "outputs": [
    {
     "data": {
      "text/plain": [
       "['CH', 'CZ', 'DE', 'ES', 'NO', 'SE']"
      ]
     },
     "execution_count": 7,
     "metadata": {},
     "output_type": "execute_result"
    }
   ],
   "source": [
    "countries = df.cntry.unique().tolist()\n",
    "countries"
   ]
  },
  {
   "cell_type": "markdown",
   "metadata": {},
   "source": [
    "# Did people become less trusting from 2012 to 2014? "
   ]
  },
  {
   "cell_type": "code",
   "execution_count": 8,
   "metadata": {},
   "outputs": [
    {
     "data": {
      "image/png": "[encoded data removed]",
      "text/plain": [
       "<matplotlib.figure.Figure at 0x112de39e8>"
      ]
     },
     "metadata": {},
     "output_type": "display_data"
    },
    {
     "data": {
      "image/png": "[encoded data removed]",
      "text/plain": [
       "<matplotlib.figure.Figure at 0x1136063c8>"
      ]
     },
     "metadata": {},
     "output_type": "display_data"
    },
    {
     "data": {
      "image/png": "[encoded data removed]",
      "text/plain": [
       "<matplotlib.figure.Figure at 0x107d52710>"
      ]
     },
     "metadata": {},
     "output_type": "display_data"
    },
    {
     "data": {
      "image/png": "[encoded data removed]",
      "text/plain": [
       "<matplotlib.figure.Figure at 0x113333be0>"
      ]
     },
     "metadata": {},
     "output_type": "display_data"
    },
    {
     "data": {
      "image/png": "[encoded data removed]",
      "text/plain": [
       "<matplotlib.figure.Figure at 0x114788048>"
      ]
     },
     "metadata": {},
     "output_type": "display_data"
    },
    {
     "data": {
      "image/png": "[encoded data removed]",
      "text/plain": [
       "<matplotlib.figure.Figure at 0x114813588>"
      ]
     },
     "metadata": {},
     "output_type": "display_data"
    }
   ],
   "source": [
    "for country in countries:\n",
    "    \n",
    "    fig, ax1 = plt.subplots(1, 2, figsize=(5, 2))\n",
    "\n",
    "    ax1[0].hist(df['ppltrst'][(df['cntry'] == country) & (df['year']==6)])\n",
    "    ax1[1].hist(df['ppltrst'][(df['cntry'] == country) & (df['year']==7)])\n",
    "\n",
    "    fig.text(0.5, 1, country)\n",
    "    ax1[0].set_title('2012')\n",
    "    ax1[1].set_title('2014')\n",
    "    \n",
    "    plt.show()"
   ]
  },
  {
   "cell_type": "code",
   "execution_count": 9,
   "metadata": {},
   "outputs": [
    {
     "name": "stdout",
     "output_type": "stream",
     "text": [
      "CH\n",
      "2012 mean: 5.67787839586\n",
      "2014 mean: 5.75161707633\n",
      "Ttest_relResult(statistic=-0.65868517567257368, pvalue=0.51029435113011345)\n",
      "CZ\n",
      "2012 mean: 4.37993920973\n",
      "2014 mean: 4.42705167173\n",
      "Ttest_relResult(statistic=-0.3505247744198508, pvalue=0.72605725523006459)\n",
      "DE\n",
      "2012 mean: 5.21428571429\n",
      "2014 mean: 5.35714285714\n",
      "Ttest_relResult(statistic=-0.18399501804849683, pvalue=0.85685637970958051)\n",
      "ES\n",
      "2012 mean: 5.11459192086\n",
      "2014 mean: 4.89694971146\n",
      "Ttest_relResult(statistic=2.4654605168309875, pvalue=0.013821475296285565)\n",
      "NO\n",
      "2012 mean: 6.64842681259\n",
      "2014 mean: 6.59781121751\n",
      "Ttest_relResult(statistic=0.53608305830972203, pvalue=0.5920644526109955)\n",
      "SE\n",
      "2012 mean: 6.05837004405\n",
      "2014 mean: 6.2577092511\n",
      "Ttest_relResult(statistic=-2.0779526353666138, pvalue=0.037994493452976834)\n"
     ]
    }
   ],
   "source": [
    "for country in countries:\n",
    "    print(country)\n",
    "    print('2012 mean: ' + str(df['ppltrst'][(df['cntry'] == country) & (df['year']==6)].mean()))\n",
    "    print('2014 mean: ' + str(df['ppltrst'][(df['cntry'] == country) & (df['year']==7)].mean()))  \n",
    "    print(stats.ttest_rel(df['ppltrst'][(df['cntry'] == country) & (df['year']==6)], \n",
    "                          df['ppltrst'][(df['cntry'] == country) & (df['year']==7)]\n",
    "                         ))"
   ]
  },
  {
   "cell_type": "markdown",
   "metadata": {},
   "source": [
    "## Conclusion"
   ]
  },
  {
   "cell_type": "markdown",
   "metadata": {},
   "source": [
    "People in different countries represented varied in their amounts of increased or decreased trust from 2012 to 2014. I chose to analyze this using the t-test for paired samples, since these data follow the same individuals over the testing period.\n",
    "\n",
    "People in Spain experienced a significant decrease in their trust levels between 2012 and 2014, where as people in Sweden saw a significant increase. The other four countries stayed relatively stable during this period, based on this sample. "
   ]
  },
  {
   "cell_type": "markdown",
   "metadata": {},
   "source": [
    "# Did people become happier from 2012 to 2014? "
   ]
  },
  {
   "cell_type": "code",
   "execution_count": 10,
   "metadata": {},
   "outputs": [
    {
     "data": {
      "image/png": "[encoded data removed]",
      "text/plain": [
       "<matplotlib.figure.Figure at 0x112de3898>"
      ]
     },
     "metadata": {},
     "output_type": "display_data"
    },
    {
     "data": {
      "image/png": "[encoded data removed]",
      "text/plain": [
       "<matplotlib.figure.Figure at 0x114ab12b0>"
      ]
     },
     "metadata": {},
     "output_type": "display_data"
    },
    {
     "data": {
      "image/png": "[encoded data removed]",
      "text/plain": [
       "<matplotlib.figure.Figure at 0x114ab4a90>"
      ]
     },
     "metadata": {},
     "output_type": "display_data"
    },
    {
     "data": {
      "image/png": "[encoded data removed]",
      "text/plain": [
       "<matplotlib.figure.Figure at 0x110d29c18>"
      ]
     },
     "metadata": {},
     "output_type": "display_data"
    },
    {
     "data": {
      "image/png": "[encoded data removed]",
      "text/plain": [
       "<matplotlib.figure.Figure at 0x114880470>"
      ]
     },
     "metadata": {},
     "output_type": "display_data"
    },
    {
     "data": {
      "image/png": "[encoded data removed]",
      "text/plain": [
       "<matplotlib.figure.Figure at 0x11471dd30>"
      ]
     },
     "metadata": {},
     "output_type": "display_data"
    }
   ],
   "source": [
    "for country in countries:\n",
    "    \n",
    "    fig, ax1 = plt.subplots(1, 2, figsize=(5, 2))\n",
    "\n",
    "    ax1[0].hist(df['happy'][(df['cntry'] == country) & (df['year']==6)])\n",
    "    ax1[1].hist(df['happy'][(df['cntry'] == country) & (df['year']==7)])\n",
    "\n",
    "    fig.text(0.5, 1, country)\n",
    "    ax1[0].set_title('2012')\n",
    "    ax1[1].set_title('2014')\n",
    "    \n",
    "    plt.show()"
   ]
  },
  {
   "cell_type": "code",
   "execution_count": 11,
   "metadata": {},
   "outputs": [
    {
     "name": "stdout",
     "output_type": "stream",
     "text": [
      "CH\n",
      "2012 mean: 8.08796895213\n",
      "2014 mean: 8.11642949547\n",
      "WilcoxonResult(statistic=93384.0, pvalue=0.92484631303907039)\n",
      "CZ\n",
      "2012 mean: 6.79331306991\n",
      "2014 mean: 6.92401215805\n",
      "WilcoxonResult(statistic=78000.5, pvalue=0.28296308381494129)\n",
      "DE\n",
      "2012 mean: 7.42857142857\n",
      "2014 mean: 7.85714285714\n",
      "WilcoxonResult(statistic=23.5, pvalue=0.393351316918508)\n",
      "ES\n",
      "2012 mean: 7.54905193735\n",
      "2014 mean: 7.42044517725\n",
      "WilcoxonResult(statistic=232720.5, pvalue=0.059772872562481524)\n",
      "NO\n",
      "2012 mean: 8.25034199726\n",
      "2014 mean: 7.91518467852\n",
      "WilcoxonResult(statistic=68546.0, pvalue=1.1346429849504098e-05)\n",
      "SE\n",
      "2012 mean: 7.90748898678\n",
      "2014 mean: 7.94713656388\n",
      "WilcoxonResult(statistic=126465.0, pvalue=0.68245114403798701)\n"
     ]
    }
   ],
   "source": [
    "for country in countries:\n",
    "    print(country)\n",
    "    print('2012 mean: ' + str(df['happy'][(df['cntry'] == country) & (df['year']==6)].mean()))\n",
    "    print('2014 mean: ' + str(df['happy'][(df['cntry'] == country) & (df['year']==7)].mean()))  \n",
    "    print(stats.wilcoxon(df['happy'][(df['cntry'] == country) & (df['year']==6)], \n",
    "                         df['happy'][(df['cntry'] == country) & (df['year']==7)]\n",
    "                        ))"
   ]
  },
  {
   "cell_type": "markdown",
   "metadata": {},
   "source": [
    "## Conclusion"
   ]
  },
  {
   "cell_type": "markdown",
   "metadata": {},
   "source": [
    "Based on the data from 2012 and 2014, people from Norway became less happy over that time period. All other countries represented here did not see a statistically significant change. Spain's p-value was close to being significant at a .05 level, but there are very few data points from Spain, making this test inconclusive. \n",
    "\n",
    "I chose to analyze these data with the Wilcoxon signed-rank test, as the distributions were far from normal and the data was paired between the two years. "
   ]
  },
  {
   "cell_type": "markdown",
   "metadata": {},
   "source": [
    "# Who reported watching more TV in 2012, men or women?\n"
   ]
  },
  {
   "cell_type": "code",
   "execution_count": 12,
   "metadata": {},
   "outputs": [
    {
     "data": {
      "image/png": "[encoded data removed]",
      "text/plain": [
       "<matplotlib.figure.Figure at 0x114820c88>"
      ]
     },
     "metadata": {},
     "output_type": "display_data"
    }
   ],
   "source": [
    "df_male = df['tvtot'][(df['gndr'] == 1.0) & (df['year'] == 6)]\n",
    "df_female = df['tvtot'][(df['gndr'] == 2.0) & (df['year'] == 6)]\n",
    "\n",
    "fig, ax1 = plt.subplots(1, 2, figsize=(5, 2))\n",
    "\n",
    "ax1[0].hist(df_male)\n",
    "ax1[1].hist(df_female)\n",
    "\n",
    "fig.text(0.35, 1, '2012 Total TV Watched')\n",
    "ax1[0].set_title('Male')\n",
    "ax1[1].set_title('Female')\n",
    "    \n",
    "plt.show()"
   ]
  },
  {
   "cell_type": "code",
   "execution_count": 13,
   "metadata": {},
   "outputs": [
    {
     "name": "stdout",
     "output_type": "stream",
     "text": [
      "Male mean: 3.90204271123\n",
      "Female mean: 3.94447036864\n",
      "MannwhitneyuResult(statistic=2277450.5, pvalue=0.22376355068970721)\n"
     ]
    }
   ],
   "source": [
    "print('Male mean: ' + str(df_male.mean()))\n",
    "print('Female mean: ' + str(df_female.mean()))  \n",
    "print(stats.mannwhitneyu(df_male, df_female))"
   ]
  },
  {
   "cell_type": "markdown",
   "metadata": {},
   "source": [
    "## Conclusion"
   ]
  },
  {
   "cell_type": "markdown",
   "metadata": {},
   "source": [
    "To compare the TV viewing habits of men and women in the same year, I chose to use the Mann Whitney U test. This is because the distributions were far from normal (maybe closest to uniform, however missing some values altogether), and the data was not paired, as it is comparing man and women, instead of the same person over different years. \n",
    "\n",
    "The Mann Whitney U test indicated that there was no significant difference between the TV viewing habits between men and women. "
   ]
  },
  {
   "cell_type": "markdown",
   "metadata": {},
   "source": [
    "# Who was more likely to believe people were fair in 2012, people living with a partner or people living alone?"
   ]
  },
  {
   "cell_type": "code",
   "execution_count": 14,
   "metadata": {},
   "outputs": [
    {
     "data": {
      "image/png": "[encoded data removed]",
      "text/plain": [
       "<matplotlib.figure.Figure at 0x11335e320>"
      ]
     },
     "metadata": {},
     "output_type": "display_data"
    }
   ],
   "source": [
    "df_partner = df['pplfair'][(df['partner'] == 1.0) & (df['year'] == 6)]\n",
    "df_single = df['pplfair'][(df['partner'] == 2.0) & (df['year'] == 6)]\n",
    "\n",
    "fig, ax1 = plt.subplots(1, 2, figsize=(5, 2))\n",
    "\n",
    "ax1[0].hist(df_partner)\n",
    "ax1[1].hist(df_single)\n",
    "\n",
    "fig.text(0.35, 1, '2012 Perceived Fairness')\n",
    "ax1[0].set_title('Coupled')\n",
    "ax1[1].set_title('Single')\n",
    "    \n",
    "plt.show()"
   ]
  },
  {
   "cell_type": "code",
   "execution_count": 15,
   "metadata": {},
   "outputs": [
    {
     "name": "stdout",
     "output_type": "stream",
     "text": [
      "The mean perceived fairness for coupled people is: 6.08243192838\n",
      "The mean perceived fairness for single people is: 5.85767326733\n",
      "Ttest_indResult(statistic=3.3526650393131754, pvalue=0.00080730020288659018)\n"
     ]
    }
   ],
   "source": [
    "print('The mean perceived fairness for coupled people is: ' + str(df_partner.mean()))\n",
    "print('The mean perceived fairness for single people is: ' + str(df_single.mean()))  \n",
    "print(stats.ttest_ind(df_partner, df_single))"
   ]
  },
  {
   "cell_type": "markdown",
   "metadata": {},
   "source": [
    "## Conclusion"
   ]
  },
  {
   "cell_type": "markdown",
   "metadata": {},
   "source": [
    "To test the difference in perceived fairness between those people living with a partner and those people who live alone, I chose to use a t-test for independent samples. The distributions resembled normality, at least when compared with most others in this exercise, and the two samples are independent. \n",
    "\n",
    "The test indicated that people living with a partner judge others as being more fair, than people living alone, who judge people as less fair. "
   ]
  },
  {
   "cell_type": "markdown",
   "metadata": {},
   "source": [
    "# Pick three or four of the countries in the sample and compare how often people met socially in 2014. Are there differences, and if so, which countries stand out?"
   ]
  },
  {
   "cell_type": "code",
   "execution_count": 16,
   "metadata": {
    "collapsed": true
   },
   "outputs": [],
   "source": [
    "ch_soc = df['sclmeet'][(df['cntry'] == 'CH') & (df['year'] == 7)]\n",
    "cz_soc = df['sclmeet'][(df['cntry'] == 'CZ') & (df['year'] == 7)]\n",
    "no_soc = df['sclmeet'][(df['cntry'] == 'NO') & (df['year'] == 7)]\n",
    "se_soc = df['sclmeet'][(df['cntry'] == 'SE') & (df['year'] == 7)]"
   ]
  },
  {
   "cell_type": "code",
   "execution_count": 17,
   "metadata": {},
   "outputs": [
    {
     "data": {
      "image/png": "[encoded data removed]",
      "text/plain": [
       "<matplotlib.figure.Figure at 0x1065061d0>"
      ]
     },
     "metadata": {},
     "output_type": "display_data"
    }
   ],
   "source": [
    "fig, ax1 = plt.subplots(1, 4, figsize=(10, 4))\n",
    "\n",
    "ax1[0].hist(ch_soc)\n",
    "ax1[1].hist(cz_soc)\n",
    "ax1[2].hist(no_soc)\n",
    "ax1[3].hist(se_soc)\n",
    "\n",
    "fig.text(0.4, 1, 'Social Meetings by Country, 2014')\n",
    "ax1[0].set_title('Switzerland')\n",
    "ax1[1].set_title('Czech Republic')\n",
    "ax1[2].set_title('Norway')\n",
    "ax1[3].set_title('Sweden')\n",
    "    \n",
    "plt.tight_layout()\n",
    "plt.show()"
   ]
  },
  {
   "cell_type": "code",
   "execution_count": 18,
   "metadata": {},
   "outputs": [
    {
     "name": "stdout",
     "output_type": "stream",
     "text": [
      "F score: 71.1185277262\n",
      "P-value: 1.84217525307e-44\n"
     ]
    }
   ],
   "source": [
    "F, p = stats.f_oneway(ch_soc, cz_soc, no_soc, se_soc)\n",
    "\n",
    "print('F score: ' + str(F))\n",
    "print('P-value: ' + str(p))"
   ]
  },
  {
   "cell_type": "markdown",
   "metadata": {},
   "source": [
    "### p < .05, so there's a difference somewhere!\n"
   ]
  },
  {
   "cell_type": "code",
   "execution_count": 19,
   "metadata": {},
   "outputs": [
    {
     "name": "stdout",
     "output_type": "stream",
     "text": [
      "Switzerland mean: 5.1617076326\n",
      "Czech Republic mean: 4.45288753799\n",
      "Norway mean: 5.3023255814\n",
      "Sweden mean: 5.42621145374\n"
     ]
    }
   ],
   "source": [
    "print('Switzerland mean: ' + str(ch_soc.mean()))\n",
    "print('Czech Republic mean: ' + str(cz_soc.mean()))\n",
    "print('Norway mean: ' + str(no_soc.mean()))\n",
    "print('Sweden mean: ' + str(se_soc.mean()))"
   ]
  },
  {
   "cell_type": "code",
   "execution_count": 20,
   "metadata": {},
   "outputs": [
    {
     "name": "stdout",
     "output_type": "stream",
     "text": [
      "Switzerland and Czech Republic: Ttest_indResult(statistic=9.6090324190812435, pvalue=3.1577408168058905e-21)\n",
      "Switzerland and Norway: Ttest_indResult(statistic=-2.0531728839815022, pvalue=0.040228683674215074)\n",
      "Switzerland and Sweden: Ttest_indResult(statistic=-4.0227626895095154, pvalue=6.0073262569460029e-05)\n",
      "Czech Republic and Norway: Ttest_indResult(statistic=-11.186939382725051, pvalue=7.0789166186303073e-28)\n",
      "Czech Republic and Sweden: Ttest_indResult(statistic=-13.389587151683251, pvalue=8.7117782806599256e-39)\n",
      "Norway and Sweden: Ttest_indResult(statistic=-1.8305856428076237, pvalue=0.067344124325977833)\n"
     ]
    }
   ],
   "source": [
    "print('Switzerland and Czech Republic: ' + str(stats.ttest_ind(ch_soc, cz_soc)))\n",
    "print('Switzerland and Norway: ' + str(stats.ttest_ind(ch_soc, no_soc)))\n",
    "print('Switzerland and Sweden: ' + str(stats.ttest_ind(ch_soc, se_soc)))\n",
    "print('Czech Republic and Norway: ' + str(stats.ttest_ind(cz_soc, no_soc)))\n",
    "print('Czech Republic and Sweden: ' + str(stats.ttest_ind(cz_soc, se_soc)))\n",
    "print('Norway and Sweden: ' + str(stats.ttest_ind(no_soc, se_soc)))"
   ]
  },
  {
   "cell_type": "markdown",
   "metadata": {},
   "source": [
    "## Conclusion"
   ]
  },
  {
   "cell_type": "markdown",
   "metadata": {},
   "source": [
    "The one-way ANOVA shows that there is a significant difference in social meeting frequency between at least one pair of countries. Independent t-tests of each pair show that there is a significant difference between all pairs represented here except for Norway and Sweden. "
   ]
  },
  {
   "cell_type": "markdown",
   "metadata": {},
   "source": [
    "# Pick three or four of the countries in the sample and compare how often people took part in social activities, relative to others their age, in 2014. Are there differences, and if so, which countries stand out?"
   ]
  },
  {
   "cell_type": "code",
   "execution_count": 21,
   "metadata": {
    "collapsed": true
   },
   "outputs": [],
   "source": [
    "ch_soc_act = df['sclact'][(df['cntry'] == 'CH') & (df['year'] == 7)]\n",
    "cz_soc_act = df['sclact'][(df['cntry'] == 'CZ') & (df['year'] == 7)]\n",
    "no_soc_act = df['sclact'][(df['cntry'] == 'NO') & (df['year'] == 7)]\n",
    "se_soc_act = df['sclact'][(df['cntry'] == 'SE') & (df['year'] == 7)]"
   ]
  },
  {
   "cell_type": "code",
   "execution_count": 22,
   "metadata": {},
   "outputs": [
    {
     "data": {
      "image/png": "[encoded data removed]",
      "text/plain": [
       "<matplotlib.figure.Figure at 0x110d417f0>"
      ]
     },
     "metadata": {},
     "output_type": "display_data"
    }
   ],
   "source": [
    "fig, ax1 = plt.subplots(1, 4, figsize=(10, 4))\n",
    "\n",
    "ax1[0].hist(ch_soc_act)\n",
    "ax1[1].hist(cz_soc_act)\n",
    "ax1[2].hist(no_soc_act)\n",
    "ax1[3].hist(se_soc_act)\n",
    "\n",
    "fig.text(0.4, 1, 'Social Activities by Country, 2014')\n",
    "ax1[0].set_title('Switzerland')\n",
    "ax1[1].set_title('Czech Republic')\n",
    "ax1[2].set_title('Norway')\n",
    "ax1[3].set_title('Sweden')\n",
    "   \n",
    "plt.tight_layout()\n",
    "plt.show()"
   ]
  },
  {
   "cell_type": "code",
   "execution_count": 23,
   "metadata": {},
   "outputs": [
    {
     "name": "stdout",
     "output_type": "stream",
     "text": [
      "F score: 6.1469093737\n",
      "P-value: 0.000365713258484\n"
     ]
    }
   ],
   "source": [
    "F, p = stats.f_oneway(ch_soc_act, cz_soc_act, no_soc_act, se_soc_act)\n",
    "\n",
    "print('F score: ' + str(F))\n",
    "print('P-value: ' + str(p))"
   ]
  },
  {
   "cell_type": "markdown",
   "metadata": {},
   "source": [
    "### p < .05, so, again, there's a difference somewhere!\n"
   ]
  },
  {
   "cell_type": "code",
   "execution_count": 24,
   "metadata": {},
   "outputs": [
    {
     "name": "stdout",
     "output_type": "stream",
     "text": [
      "Switzerland mean: 2.78395860285\n",
      "Czech Republic mean: 2.70668693009\n",
      "Norway mean: 2.85909712722\n",
      "Sweden mean: 2.87995594714\n"
     ]
    }
   ],
   "source": [
    "print('Switzerland mean: ' + str(ch_soc_act.mean()))\n",
    "print('Czech Republic mean: ' + str(cz_soc_act.mean()))\n",
    "print('Norway mean: ' + str(no_soc_act.mean()))\n",
    "print('Sweden mean: ' + str(se_soc_act.mean()))"
   ]
  },
  {
   "cell_type": "code",
   "execution_count": 25,
   "metadata": {},
   "outputs": [
    {
     "name": "stdout",
     "output_type": "stream",
     "text": [
      "Switzerland and Czech Republic: Ttest_indResult(statistic=1.6549480585587841, pvalue=0.098154623475653818)\n",
      "Switzerland and Norway: Ttest_indResult(statistic=-1.6721779639438938, pvalue=0.094697509472510585)\n",
      "Switzerland and Sweden: Ttest_indResult(statistic=-2.2234265593092819, pvalue=0.026319699790955674)\n",
      "Czech Republic and Norway: Ttest_indResult(statistic=-3.3864422185314069, pvalue=0.00072785796101149916)\n",
      "Czech Republic and Sweden: Ttest_indResult(statistic=-3.9635890157584477, pvalue=7.7158706949476656e-05)\n",
      "Norway and Sweden: Ttest_indResult(statistic=-0.49600710492244521, pvalue=0.61995598392416174)\n"
     ]
    }
   ],
   "source": [
    "print('Switzerland and Czech Republic: ' + str(stats.ttest_ind(ch_soc_act, cz_soc_act)))\n",
    "print('Switzerland and Norway: ' + str(stats.ttest_ind(ch_soc_act, no_soc_act)))\n",
    "print('Switzerland and Sweden: ' + str(stats.ttest_ind(ch_soc_act, se_soc_act)))\n",
    "print('Czech Republic and Norway: ' + str(stats.ttest_ind(cz_soc_act, no_soc_act)))\n",
    "print('Czech Republic and Sweden: ' + str(stats.ttest_ind(cz_soc_act, se_soc_act)))\n",
    "print('Norway and Sweden: ' + str(stats.ttest_ind(no_soc_act, se_soc_act)))"
   ]
  },
  {
   "cell_type": "markdown",
   "metadata": {},
   "source": [
    "## Conclusion"
   ]
  },
  {
   "cell_type": "markdown",
   "metadata": {},
   "source": [
    "The one-way ANOVA shows that there is a significant difference in social activity frequency between at least one pair of countries. Independent t-tests of each pair show that there is a significant difference between Switzerland and Sweden, Czech Republic and Norway, and Czech Republic and Sweden."
   ]
  }
 ],
 "metadata": {
  "kernelspec": {
   "display_name": "Python 3",
   "language": "python",
   "name": "python3"
  },
  "language_info": {
   "codemirror_mode": {
    "name": "ipython",
    "version": 3
   },
   "file_extension": ".py",
   "mimetype": "text/x-python",
   "name": "python",
   "nbconvert_exporter": "python",
   "pygments_lexer": "ipython3",
   "version": "3.5.1"
  }
 },
 "nbformat": 4,
 "nbformat_minor": 2
}
