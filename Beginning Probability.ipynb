{
 "cells": [
  {
   "cell_type": "markdown",
   "metadata": {},
   "source": [
    "Question 1.\n",
    "\n",
    "HTTH = (1/2) * (1/2) * (1/2) * (1/2) = 1/16 = 0.0625\n",
    "\n",
    "HHHH = (1/2) * (1/2) * (1/2) * (1/2) = 1/16 = 0.0625\n",
    "\n",
    "TTHH = (1/2) * (1/2) * (1/2) * (1/2) = 1/16 = 0.0625"
   ]
  },
  {
   "cell_type": "markdown",
   "metadata": {},
   "source": [
    "Question 2.\n",
    "\n",
    "List = 24 women, 21 men \n",
    "\n",
    "P(man) = 21/45\n",
    "\n",
    "P(not man) = P(woman) = 24/45"
   ]
  },
  {
   "cell_type": "markdown",
   "metadata": {},
   "source": [
    "Question 3.\n",
    "\n",
    "P(Bernice travel by plane) = 10% = 0.1\n",
    "\n",
    "P(plane crash) = 0.005% = 0.00005\n",
    "\n",
    "P(Bernice in a plane crash = 0.1 * 0.00005 = 0.000005 = 0.0005% = 5/1000000 = 1/200000"
   ]
  },
  {
   "cell_type": "markdown",
   "metadata": {},
   "source": [
    "Question 4.\n",
    "\n",
    "The 5% of users who are randomly selected to take the survey will spend time taking that survey, which would increase the amount of time that they are on the website because of taking the survey. Those not selected would not have the added survey-taking time, thus comparatively shortening their time spent on the site. "
   ]
  },
  {
   "cell_type": "code",
   "execution_count": null,
   "metadata": {
    "collapsed": true
   },
   "outputs": [],
   "source": []
  }
 ],
 "metadata": {
  "kernelspec": {
   "display_name": "Python 3",
   "language": "python",
   "name": "python3"
  },
  "language_info": {
   "codemirror_mode": {
    "name": "ipython",
    "version": 3
   },
   "file_extension": ".py",
   "mimetype": "text/x-python",
   "name": "python",
   "nbconvert_exporter": "python",
   "pygments_lexer": "ipython3",
   "version": "3.5.1"
  }
 },
 "nbformat": 4,
 "nbformat_minor": 2
}
