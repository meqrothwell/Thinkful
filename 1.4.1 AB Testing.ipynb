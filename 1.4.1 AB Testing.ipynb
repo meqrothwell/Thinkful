{
 "cells": [
  {
   "cell_type": "markdown",
   "metadata": {},
   "source": [
    "## Does a new supplement help people sleep better?\n"
   ]
  },
  {
   "cell_type": "markdown",
   "metadata": {},
   "source": [
    "To test whether a new supplement helps people sleep better, you would need a random sample that is then randomly split into one group that would receive the supplement and the other that would either receive a placebo or nothing. The hypothesis would be that the group receiving the supplement would experience better sleep. The outcome of interest would be sleep quality which would need to be defined beforehand. It should be measure by something objective such as number of hours slept, as opposed to something subjective like a personal rating. It could also be measured using a phone app such as Sleep Cycle, which measures quality of sleep and then assigns a score once the person wakes up. Other measured variables would include the side effects of the supplement, since those should definitely be acknowledged when potentially selling it to consumers."
   ]
  },
  {
   "cell_type": "markdown",
   "metadata": {},
   "source": [
    "## Will new uniforms help a gym's business?\n"
   ]
  },
  {
   "cell_type": "markdown",
   "metadata": {},
   "source": [
    "To test if new uniforms help a gym's business, I would first ask the gym to decide what their test sample would be. Do they want to test on just the trainers? Front desk staff? Everyone? Once this is decided, we would need to figure out a time frame. If we want to know relatively quickly, we could alternate uniforms by week and track new sign ups, gym visits, etc. If we can take a bit longer, we can switch monthly or more, but then we would need to take into account seasonal differences, such as signups around New Years resolutions, for example. We would also need to define how we are measuring \"helping business\". Is it measured just in revenue (i.e. renewals, new sign-ups, product sales) or is it also measured in how often current members come in to work out (i.e. member satisfaction, which could then lead to increased revenue)? Once these things are defined, the hypothesis would be that new uniforms do help business. Key metrics, again, would have to be decided upon by how the gym defines success. Other variables would be the items mentioned above that are not decided to be the key metric. \n",
    "\n",
    "For cleaner results, the gym would also need to stay consistent in its other offerings, such as workout class schedule, promotions, and other things that would have confusing effects on how successful the uniform change really is. "
   ]
  },
  {
   "cell_type": "markdown",
   "metadata": {},
   "source": [
    "## Will a new homepage improve my online exotic pet rental business?\n"
   ]
  },
  {
   "cell_type": "markdown",
   "metadata": {},
   "source": [
    "To test a new homepage, I would update the current version and randomly and evenly split web traffic to be directed to the new web page and the old web page. The sample would be anyone interested in renting an exotic pet. I could also advertise and have promotions, and as long as the traffic is still evenly split, the conversion rates should be easily compared. My hypothesis would be that my new homepage improves business. My outcome would be defined by conversion rate of visitors who do indeed rent one of my exotic pets. Other measured variables could be other elements of their session information such as time spent on the page, click-throughs, etc. "
   ]
  },
  {
   "cell_type": "markdown",
   "metadata": {},
   "source": [
    "## If I put 'please read' in the email subject will more people read my emails?\n"
   ]
  },
  {
   "cell_type": "markdown",
   "metadata": {},
   "source": [
    "To test email subject line success, I would draft one email with a normal desciptive subject line and another with 'please read' in the subject as well. The email content would be the same. I would randomly divide my email list in half and send one version to each sample. My hypothesis would that adding these extra words would increase the rate of people reading my email. To test how many people read the email might be a bit tricky. If I'm using an email distribution, such as MailChimp, I could easily compare the rate of email opened by recipients, but that would not guarantee that they read it. Better results of actually being read may be achieved by having a free offer in the email, such as free money by doing something very simply, like \"clicking here\". This would introduce its own set of questions, though. It may be simplest and make the most sense to just measure by emails opened. Other meaured variables could include interaction with the email content, such as clicking on links or taking some sort of action. "
   ]
  },
  {
   "cell_type": "code",
   "execution_count": null,
   "metadata": {
    "collapsed": true
   },
   "outputs": [],
   "source": []
  }
 ],
 "metadata": {
  "kernelspec": {
   "display_name": "Python 3",
   "language": "python",
   "name": "python3"
  },
  "language_info": {
   "codemirror_mode": {
    "name": "ipython",
    "version": 3
   },
   "file_extension": ".py",
   "mimetype": "text/x-python",
   "name": "python",
   "nbconvert_exporter": "python",
   "pygments_lexer": "ipython3",
   "version": "3.5.1"
  }
 },
 "nbformat": 4,
 "nbformat_minor": 2
}
