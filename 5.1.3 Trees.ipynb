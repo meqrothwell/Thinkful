{
 "cells": [
  {
   "cell_type": "code",
   "execution_count": 1,
   "metadata": {
    "collapsed": true
   },
   "outputs": [],
   "source": [
    "import random\n",
    "random.seed(a=42)"
   ]
  },
  {
   "cell_type": "code",
   "execution_count": 2,
   "metadata": {},
   "outputs": [
    {
     "name": "stdout",
     "output_type": "stream",
     "text": [
      "10\n",
      "14\n",
      "3216\n",
      "00\n"
     ]
    }
   ],
   "source": [
    "from collections import deque\n",
    "\n",
    "class Node:\n",
    "\n",
    "       def __init__(self,info):\n",
    "\n",
    "           self.info = info\n",
    "           self.left = None\n",
    "           self.right = None\n",
    "           self.level = None\n",
    "\n",
    "       def __str__(self):\n",
    "\n",
    "           return str(self.info)\n",
    "\n",
    "\n",
    "def BFT(node):\n",
    "\n",
    "    node.level = 1\n",
    "    queue = deque([node])\n",
    "    output = []\n",
    "    current_level = node.level\n",
    "\n",
    "    while len(queue)>0:\n",
    "\n",
    "          current_node = queue.popleft()\n",
    "\n",
    "          if(current_node.level > current_level):\n",
    "              output.append(\"\\n\")\n",
    "              current_level += 1\n",
    "\n",
    "          output.append(str(current_node))\n",
    "\n",
    "          if current_node.left != None:\n",
    "             current_node.left.level = current_level + 1 \n",
    "             queue.append(current_node.left) \n",
    "\n",
    "          if current_node.right != None:\n",
    "             current_node.right.level = current_level + 1 \n",
    "             queue.append(current_node.right)\n",
    "\n",
    "                 \n",
    " \n",
    "    return ''.join(output)\n",
    "\n",
    "# Establish the initial root node and children\n",
    "root = Node(random.randint(0,10))\n",
    "root.left = Node(random.randint(0,10))\n",
    "root.center = Node(random.randint(0,10))\n",
    "root.right = Node(random.randint(0,10))\n",
    "\n",
    "# Add the appropriate children for ‘B’ and ‘C’\n",
    "root.left.left = Node(random.randint(0,10))\n",
    "root.left.center = Node(random.randint(0,10))\n",
    "root.left.right = Node(random.randint(0,10))\n",
    "root.center.left = Node(random.randint(0,10))\n",
    "root.center.center = Node(random.randint(0,10))\n",
    "root.center.right = Node(random.randint(0,10))\n",
    "root.right.left = Node(random.randint(0,10))\n",
    "root.right.center = Node(random.randint(0,10))\n",
    "root.right.right = Node(random.randint(0,10))\n",
    "root.left.left.left = Node(random.randint(0,10))\n",
    "root.right.right.right = Node(random.randint(0,10))\n",
    "\n",
    "print(BFT(root))"
   ]
  }
 ],
 "metadata": {
  "kernelspec": {
   "display_name": "Python 3",
   "language": "python",
   "name": "python3"
  },
  "language_info": {
   "codemirror_mode": {
    "name": "ipython",
    "version": 3
   },
   "file_extension": ".py",
   "mimetype": "text/x-python",
   "name": "python",
   "nbconvert_exporter": "python",
   "pygments_lexer": "ipython3",
   "version": "3.5.1"
  }
 },
 "nbformat": 4,
 "nbformat_minor": 2
}
