{
 "cells": [
  {
   "cell_type": "markdown",
   "metadata": {},
   "source": [
    "## You're testing advertising emails for a bathing suit company and you test one version of the email in February and the other in May.\n"
   ]
  },
  {
   "cell_type": "markdown",
   "metadata": {},
   "source": [
    "Bathing suit purchases would seem like a very seasonal item. It's likely that the May email would naturally result in higher bathing suit sales since it's right before summer begins (as long as we're located in the northern hemisphere). A better design would be to randomly divide email recipients in half and send them each one of the emails. It would probably be better to send this email in May rather than February, again because of its proximity to summer. I'm assuming that the rest of the email content is the same and that the only difference is the bathing suit in question, and that any description of the product is consistent in tone between the two versions. "
   ]
  },
  {
   "cell_type": "markdown",
   "metadata": {},
   "source": [
    "## You open a clinic to treat anxiety and find that the people who visit show a higher rate of anxiety than the general population.\n"
   ]
  },
  {
   "cell_type": "markdown",
   "metadata": {},
   "source": [
    "The clientele of an anxiety clinic would self-select towards having a higher rate of anxiety than the general population, since that is who would come to an anxiety clinic. This sample is far from a random subset of the general population. It would be very surprising and probably a poor result if the clinic visitors did turn out to be representative of the whole population from an anxiety standpoint since that is the population that the clinic is aiming to serve. "
   ]
  },
  {
   "cell_type": "markdown",
   "metadata": {},
   "source": [
    "## You launch a new ad billboard based campaign and see an increase in website visits in the first week.\n"
   ]
  },
  {
   "cell_type": "markdown",
   "metadata": {},
   "source": [
    "In the first week of a billboard ad campaign, you would expect to see higher web traffic (if that's where the billboard is directing its audience). Once the initial time has passed, you would expect to see the traffic diminish becasue the billboard(s) is reaching fewer new viewers. Someone who sees the billboard on their way to work, for example, would be much more likely to view the website in the first week than they would after that (maybe unless it's some sort of site or service that someone would sign into often, such as Facebook)."
   ]
  },
  {
   "cell_type": "markdown",
   "metadata": {},
   "source": [
    "## You launch a loyalty program but see no change in visits in the first week.\n"
   ]
  },
  {
   "cell_type": "markdown",
   "metadata": {},
   "source": [
    "Depending on the rewards schedule of the loyalty program, you may not be able to expect to see changes in visits in the early going. If the loyalty program rewards customers for an interaction on a monthly basis, for example, you might expect to see lower attrition rates in the longer term, but may not see any improved rates in the first week. If the program is based on daily visits or a certain amount of spending, that might cause different expectations and you might be rightly worried if business doesn't pick up in the first week. "
   ]
  },
  {
   "cell_type": "code",
   "execution_count": null,
   "metadata": {
    "collapsed": true
   },
   "outputs": [],
   "source": []
  }
 ],
 "metadata": {
  "kernelspec": {
   "display_name": "Python 3",
   "language": "python",
   "name": "python3"
  },
  "language_info": {
   "codemirror_mode": {
    "name": "ipython",
    "version": 3
   },
   "file_extension": ".py",
   "mimetype": "text/x-python",
   "name": "python",
   "nbconvert_exporter": "python",
   "pygments_lexer": "ipython3",
   "version": "3.5.1"
  }
 },
 "nbformat": 4,
 "nbformat_minor": 2
}
