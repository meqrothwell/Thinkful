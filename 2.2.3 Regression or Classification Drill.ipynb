{
 "cells": [
  {
   "cell_type": "markdown",
   "metadata": {},
   "source": [
    "For each of the following situations, decide if you would model using a regression or classification model. Discuss your reasoning with your mentor next time you meet.  \n",
    "\n",
    "***1. The amount a person will spend on a given site in the next 24 months.  ***  \n",
    "    Regression. This has a continuous outcome. There is theoretically no upper limit and the increments are very small.  \n",
    "      \n",
    "***2. What color car someone is going to buy.  ***   \n",
    "    Classification.  \n",
    "    \n",
    "***3. How many children a family will have.  ***  \n",
    "    Classification. Like the car example, an argument could be made for regression. I would choose classification as there is a theoretical limit to the number of kids in a family, and the results are discrete. \n",
    "    \n",
    "***4. If someone will sign up for a service.  ***  \n",
    "    Classification. It's a yes or no question.  \n",
    "    \n",
    "***5. The number of times someone will get sick in a year.***  \n",
    "    Regression. This is continuous and regression would predict the likelihood of getting sick a certain number of times.  \n",
    "    \n",
    "***6. The probability someone will get sick in the next month.***   \n",
    "    Classification. This is a yes/no question and the probability value would be assigned to those outcomes.  \n",
    "    \n",
    "***7. Which medicine will work best for a given patient.***  \n",
    "    Classification. You are considering medicines, which are non-numeric. "
   ]
  },
  {
   "cell_type": "code",
   "execution_count": null,
   "metadata": {
    "collapsed": true
   },
   "outputs": [],
   "source": []
  }
 ],
 "metadata": {
  "kernelspec": {
   "display_name": "Python 3",
   "language": "python",
   "name": "python3"
  },
  "language_info": {
   "codemirror_mode": {
    "name": "ipython",
    "version": 3
   },
   "file_extension": ".py",
   "mimetype": "text/x-python",
   "name": "python",
   "nbconvert_exporter": "python",
   "pygments_lexer": "ipython3",
   "version": "3.5.1"
  }
 },
 "nbformat": 4,
 "nbformat_minor": 2
}
