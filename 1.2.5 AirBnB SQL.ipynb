{
 "cells": [
  {
   "cell_type": "markdown",
   "metadata": {},
   "source": [
    "## What's the most expensive listing? What else can you tell me about the listing?\n",
    "\n",
    "select\n",
    "\tl.id,\n",
    "\tl.name,\n",
    "\tl.neighbourhood,\n",
    "\tl.price,\n",
    "\tr.comments\n",
    "from\n",
    "\tlistings l\n",
    "join\n",
    "\treviews_2 r\n",
    "on\n",
    "\tl.id = r.listing_id\n",
    "order by\n",
    "\tprice desc\n",
    "    \n",
    "**The most expensive listing is a basement apartment in the Roosevelt neighborhood that goes for $1000 a night. It has only been reviewed once, but the review is very favorable. According to the review, the basement has a lot of light and there are heated floors in the bathroom.**"
   ]
  },
  {
   "cell_type": "markdown",
   "metadata": {},
   "source": [
    "## What neighborhoods seem to be the most popular?\n",
    "\n",
    "select\n",
    "\tneighbourhood,\n",
    "\tcount(*) id\n",
    "from\n",
    "\tlistings\n",
    "group by\n",
    "\tneighbourhood\n",
    "order by\n",
    "\tid desc\n",
    "    \n",
    "**Broadway (397), Belltown (234), and Wallingford (167) are the most popular neighborhoods.**"
   ]
  },
  {
   "cell_type": "markdown",
   "metadata": {
    "collapsed": true
   },
   "source": [
    "## What time of year is the cheapest time to go to your city? What about the busiest?\n",
    "\n",
    "    \n",
    "WITH cost\n",
    "AS (\n",
    "SELECT\n",
    "\t\tprice,\n",
    "\t\tdate \n",
    "\tFROM\n",
    "\t\tcalendar\n",
    "\twhere\n",
    "\t\tprice != ''\n",
    "\tGROUP BY\n",
    "\t\tdate\n",
    ")\n",
    "\t\n",
    "SELECT\n",
    "\tprice,\n",
    "\tdate\n",
    "FROM \n",
    "\tcost\n",
    "GROUP BY \n",
    "\tprice\n",
    "\n",
    "**The cheapest time of year to visit Seattle is the last part of July into the first part of August, where rooms go for as little as $65.00.**\n",
    "\n",
    "\n",
    "WITH \n",
    "\tavailability\n",
    "AS (\n",
    "\tSELECT \n",
    "\t\tdate,\n",
    "\t\tavailable\n",
    "\tFROM \n",
    "\t\tcalendar\n",
    "\twhere\n",
    "\t\tavailable = 'f'\n",
    "\tGROUP BY\n",
    "\t\tdate\n",
    ")\n",
    "\n",
    "SELECT \n",
    "\tdate,\n",
    "\tcount (*) available\n",
    "FROM \n",
    "\tavailability\n",
    "ORDER BY\n",
    "\tavailable desc\n",
    "    \n",
    "    \n",
    "**The busiest time of year to visit Seattle is around New Years. There were 365 rooms booked on January 2nd.**\n",
    "\n",
    "\n"
   ]
  },
  {
   "cell_type": "code",
   "execution_count": null,
   "metadata": {
    "collapsed": true
   },
   "outputs": [],
   "source": []
  }
 ],
 "metadata": {
  "kernelspec": {
   "display_name": "Python 3",
   "language": "python",
   "name": "python3"
  },
  "language_info": {
   "codemirror_mode": {
    "name": "ipython",
    "version": 3
   },
   "file_extension": ".py",
   "mimetype": "text/x-python",
   "name": "python",
   "nbconvert_exporter": "python",
   "pygments_lexer": "ipython3",
   "version": "3.5.1"
  }
 },
 "nbformat": 4,
 "nbformat_minor": 2
}
