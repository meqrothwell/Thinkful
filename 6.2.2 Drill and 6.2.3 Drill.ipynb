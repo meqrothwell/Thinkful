{
 "cells": [
  {
   "cell_type": "markdown",
   "metadata": {},
   "source": [
    "## 6.2.2"
   ]
  },
  {
   "cell_type": "markdown",
   "metadata": {},
   "source": [
    "### Write out the list of pairs for the undirected graph version of the Aunt Alice scenario."
   ]
  },
  {
   "cell_type": "markdown",
   "metadata": {},
   "source": [
    "(You, Aunt Alice), (You, Mom), (You, Fiancee), (Aunt Alice, You), (Aunt Alice, Mom), (Mom, You), (Mom, Aunt Alice), (Fiancee, You)"
   ]
  },
  {
   "cell_type": "markdown",
   "metadata": {},
   "source": [
    "## 6.2.3"
   ]
  },
  {
   "cell_type": "markdown",
   "metadata": {},
   "source": [
    "### As a result of Aunt Alice’s temper tantrum, she and your mother are no longer speaking to each other. Aunt Alice, still angry, called your fiancee to complain-- shockingly, this has ended in the fiancee becoming good friends with Aunt Alice due to their shared love of cute cat photos. Meanwhile, you’ve met two of your fiancee’s best friends, Dave and Brian, who are themselves good friends of long standing."
   ]
  },
  {
   "cell_type": "markdown",
   "metadata": {},
   "source": [
    "### Degree of Nodes:  \n",
    "Mom: 1  \n",
    "Aunt Alice: 2  \n",
    "You: 5  \n",
    "Fiancee: 4  \n",
    "Dave: 3  \n",
    "Brian: 3  \n",
    "\n"
   ]
  },
  {
   "cell_type": "markdown",
   "metadata": {},
   "source": [
    "### List of Edges:  \n",
    "(Mom, You), (Aunt Alice, You), (Aunt Alice, Fiancee), (You, Fiancee), (You, Dave), (You, Brian), (Fiancee, Dave), (Fiancee, Brian), (Dave, Brian)"
   ]
  },
  {
   "cell_type": "markdown",
   "metadata": {},
   "source": [
    "### Calculate the clustering coefficient for each node"
   ]
  },
  {
   "cell_type": "markdown",
   "metadata": {},
   "source": [
    "### CC(v) = (2Nv)/(Kv(v-1))  \n",
    "CC(you) = 2(4)/(5 x 4) = 8/20 = 0.4  \n",
    "CC(Aunt Alice) = 2(1)/(2 x 1) = 1  \n",
    "CC(Fiancee) = 2(4)/(4 x 3) = 8/12 = 0.66666667  \n",
    "CC(Mom) = 2()/(1 x 0) = NA  \n",
    "CC(Dave) = 2(3)/(3 x 2) = 1  \n",
    "CC(Brian) = 2(3)/(3 x 2) = 1  "
   ]
  },
  {
   "cell_type": "markdown",
   "metadata": {},
   "source": [
    "### Calculate the shortest paths between each pair of nodes"
   ]
  },
  {
   "cell_type": "markdown",
   "metadata": {},
   "source": [
    "Aunt Alice, Mom: 2  \n",
    "Aunt Alice, You: 1  \n",
    "Aunt Alice, Fiancee: 1  \n",
    "Aunt Alice, Dave: 2  \n",
    "Aunt Alice, Brian: 2  \n",
    "Mom, You: 1  \n",
    "Mom, Fiancee: 2  \n",
    "Mom, Dave: 2  \n",
    "Mom, Brian: 2  \n",
    "You, Fiancee: 1  \n",
    "You, Dave: 1  \n",
    "You, Brian: 1  \n",
    "Fiancee, Dave: 1  \n",
    "Fiancee, Brian: 1  \n",
    "Dave, Brian: 1"
   ]
  },
  {
   "cell_type": "markdown",
   "metadata": {},
   "source": [
    "### Calculate the betweenness centrality of each node"
   ]
  },
  {
   "cell_type": "markdown",
   "metadata": {},
   "source": [
    "You: 6/12  \n",
    "Fiancee: 2/12  \n",
    "Aunt Alice: 1/10  \n",
    "Mom: 0/12  \n",
    "Brian: 0/11  \n",
    "Dave: 0/11"
   ]
  },
  {
   "cell_type": "markdown",
   "metadata": {},
   "source": [
    "### Find a walk of length 5 linking Fiancee to You"
   ]
  },
  {
   "cell_type": "markdown",
   "metadata": {},
   "source": [
    "{Fiancee, Dave, Brian, Fiancee, You}, {Fiancee, Aunt Alice, You, Brian, You}, etc"
   ]
  },
  {
   "cell_type": "markdown",
   "metadata": {},
   "source": [
    "### Find the shortest path linking Dave to Mom"
   ]
  },
  {
   "cell_type": "markdown",
   "metadata": {},
   "source": [
    "{Dave, You, Mom}"
   ]
  },
  {
   "cell_type": "markdown",
   "metadata": {},
   "source": [
    "### How long is a cycle linking You to Aunt Alice?"
   ]
  },
  {
   "cell_type": "markdown",
   "metadata": {},
   "source": [
    "4: {You, Fiancee, Aunt Alice, You}"
   ]
  }
 ],
 "metadata": {
  "kernelspec": {
   "display_name": "Python 3",
   "language": "python",
   "name": "python3"
  },
  "language_info": {
   "codemirror_mode": {
    "name": "ipython",
    "version": 3
   },
   "file_extension": ".py",
   "mimetype": "text/x-python",
   "name": "python",
   "nbconvert_exporter": "python",
   "pygments_lexer": "ipython3",
   "version": "3.5.1"
  }
 },
 "nbformat": 4,
 "nbformat_minor": 2
}
