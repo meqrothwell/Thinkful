{
 "cells": [
  {
   "cell_type": "markdown",
   "metadata": {},
   "source": [
    "Categorize each of the following research questions as \"good\" or \"bad\", and provide alternative formulations for the bad ones. Save your responses in a document of some kind, submit a link below, and discuss your reasoning with your mentor.\n",
    "\n",
    "-----------------------------------\n",
    "\n",
    "**1. What is the 1994 rate of juvenile delinquency in the U.S.?**\n",
    "\n",
    "Bad. This question simply asks for a number and does not require any sort of modeling. A better question would be something like \"what were the main causes of juvenile delinquency in the U.S. in 1994?'\n",
    "\n",
    "\n",
    "**2. What can we do to reduce juvenile delinquency in the U.S.?**\n",
    "\n",
    "Good.\n",
    "\n",
    "\n",
    "**3. Does education play a role in reducing juvenile delinquents' return to crime?**\n",
    "\n",
    "Good. \n",
    "\n",
    "\n",
    "**4. How many customers does AT&T currently serve in Washington, DC?**\n",
    "\n",
    "Bad. This question is asking for a raw number and does not require any modeling. The answer should be very simple. A better question would be 'how many customers in the DC area can AT&T expect to have over the next five years?'\n",
    "\n",
    "\n",
    "**5. What factors lead consumers to choose AT&T over other service providers?**\n",
    "\n",
    "Good.\n",
    "\n",
    "**6. How can AT&T attract more customers?**\n",
    "\n",
    "Good.\n",
    "\n",
    "**7. Why did the Challenger Shuttle explode?**\n",
    "\n",
    "Good.\n",
    "\n",
    "**8. Which genes are associated with increased risk of breast cancer?**\n",
    "\n",
    "Good.\n",
    "\n",
    "**9. Is it better to read to children at night or in the morning?**\n",
    "\n",
    "Bad. This research question needs to be more specific, particularly in its definition of the word 'better'. It is unclear what the should be studied -- is it child intelligence as a result of when they are read to? Or occurrences of ADD? Or something else entirely? A better question would be 'how does reading to a child at night increase their SAT scores?' \n",
    "\n",
    "**10. How does Google’s search algorithm work?**\n",
    "\n",
    "Good.\n"
   ]
  },
  {
   "cell_type": "code",
   "execution_count": null,
   "metadata": {
    "collapsed": true
   },
   "outputs": [],
   "source": []
  }
 ],
 "metadata": {
  "kernelspec": {
   "display_name": "Python 3",
   "language": "python",
   "name": "python3"
  },
  "language_info": {
   "codemirror_mode": {
    "name": "ipython",
    "version": 3
   },
   "file_extension": ".py",
   "mimetype": "text/x-python",
   "name": "python",
   "nbconvert_exporter": "python",
   "pygments_lexer": "ipython3",
   "version": "3.5.1"
  }
 },
 "nbformat": 4,
 "nbformat_minor": 2
}
