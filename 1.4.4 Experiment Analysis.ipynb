{
 "cells": [
  {
   "cell_type": "markdown",
   "metadata": {},
   "source": [
    "### The Sith Lords are concerned that their recruiting slogan, \"Give In to Your Anger,\" isn't very effective. Darth Vader develops an alternative slogan, \"Together We Can Rule the Galaxy.\" They compare the slogans on two groups of 50 captured droids each. In one group, Emperor Palpatine delivers the \"Anger\" slogan. In the other, Dark Vader presents the \"Together\" slogan. 20 droids convert to the Dark Side after hearing Palpatine's slogan, while only 5 droids convert after hearing Vader's. The Sith's data scientist concludes that \"Anger\" is a more effective slogan and should continue to be used.\n"
   ]
  },
  {
   "cell_type": "markdown",
   "metadata": {},
   "source": [
    "If the Sith Lords wanted to conduct a more accurate study, they would ask Emperor Palpatine and Darth Vader to present each of the two slogans to 25 droids at a time. That way, the droid samples would be the same. As it currently stands, there could be other factors that affect the droid conversion rate, such as the relative intimidation factors of Palpatine and Vader. Droids may perceive Palpatine as more intimidating because he can shoot lightning from his fingers, potentially scrambling their circuits. Vader, while very powerful with the force, is not able to do that. \n",
    "\n",
    "However, there is also the question of if droids are able to make the decision to convert to the dark side on their own. Droids, since they are not organic beings, are not susceptible to the Force. Their allegiances are because of their programming, not any concious choice that they have made. "
   ]
  },
  {
   "cell_type": "markdown",
   "metadata": {},
   "source": [
    "### In the past, the Jedi have had difficulty with public relations. They send two envoys, Jar Jar Binks and Mace Windu, to four friendly and four unfriendly planets respectively, with the goal of promoting favorable feelings toward the Jedi. Upon their return, the envoys learn that Jar Jar was much more effective than Windu: Over 75% of the people surveyed said their attitudes had become more favorable after speaking with Jar Jar, while only 65% said their attitudes had become more favorable after speaking with Windu. This makes Windu angry, because he is sure that he had a better success rate than Jar Jar on every planet. The Jedi choose Jar Jar to be their representative in the future.\n"
   ]
  },
  {
   "cell_type": "markdown",
   "metadata": {},
   "source": [
    "It sounds like the Jedi created a study that was more sound than that created by the Sith Lords, which is understandable. If it is in fact true that Mace Windu achieved a better success rate on every planet -- which, knowing Jar Jar Binks, would be completely understandable -- and yet still had an overall rate that was lower than Jar Jar's, Mace Windu may need to be educated in Simpson's Paradox. Windu may have done much better on smaller planets, while the larger planets were much closer in success rates. This could have resulted in Windu having an overall rate that was lower than Jar Jar's while having greater success on every planet individually. \n",
    "\n",
    "Personally, I think that making Jar Jar a representative of anything is a terrible choice, especially because there are theories that he actually works for Palpatine, but going strictly by the numbers, it appears that the Jedi made the right choice and Mace Windu needs to cool his jets. "
   ]
  },
  {
   "cell_type": "markdown",
   "metadata": {},
   "source": [
    "### A company with work sites in five different countries has sent you data on employee satisfaction rates for workers in Human Resources and workers in Information Technology. Most HR workers are concentrated in three of the countries, while IT workers are equally distributed across worksites. The company requests a report on satisfaction for each job type. You calculate average job satisfaction for HR and for IT and present the report.\n"
   ]
  },
  {
   "cell_type": "markdown",
   "metadata": {},
   "source": [
    "As described here, the purpose of the job satisfaction report request is unclear. If the company is intending to compare the two averages against each other, then the inconsistent location concentrations of the workers in the two different fields makes any comparison unsound. For example, the three countries where the HR workers are highly concentrated could have better employment regulations and conditions than the other two countries, clearly skewing the job satisfaction rates of the HR workers higher than those in IT, since IT workers would also have significant data from workers in countries with poorer conditions. If, however, the company is using this data as part of a long-term study to track job satisfaction rates within departments, then this data might be perfectly acceptable. "
   ]
  },
  {
   "cell_type": "markdown",
   "metadata": {},
   "source": [
    "### When people install the Happy Days Fitness Tracker app, they are asked to \"opt in\" to a data collection scheme where their level of physical activity data is automatically sent to the company for product research purposes. During your interview with the company, they tell you that the app is very effective because after installing the app, the data show that people's activity levels rise steadily.\n"
   ]
  },
  {
   "cell_type": "markdown",
   "metadata": {},
   "source": [
    "Opting in to a data collection scheme may cause users, subconsciously or not, to increase their rates of physical activity because they know that someone out there might be looking at their data (if they read the opt-in agreement, that is). The increased activity rate may be the goal of the fitness tracking app, but it is more likely that they desire to achieve increased activity through encouragement, training, or other add-ons, rather than users simply having the knowledge that their data is going somewhere. "
   ]
  },
  {
   "cell_type": "markdown",
   "metadata": {},
   "source": [
    "### To prevent cheating, a teacher writes three versions of a test. She stacks the three versions together, first all copies of Version A, then all copies of Version B, then all copies of Version C. As students arrive for the exam, each student takes a test. When grading the test, the teacher finds that students who took Version B scored higher than students who took either Version A or Version C. She concludes from this that Version B is easier, and discards it.\n"
   ]
  },
  {
   "cell_type": "markdown",
   "metadata": {},
   "source": [
    "Since the tests are grouped in the pile, the order in which the students receive the tests could play a big factor in the scoring outcomes. If, for instance, a group of students is coming directly from a study group, they are likely to arrive together, and also may, as group, achieve higher scores than those students who did not come straight from a study group. If these students happen to arrive when Version B is being distributed, it could skew the Version B scores higher, even if the tests are exactly the same in difficulty. To combat this, the teacher should shuffle or randomly stack the tests to eliminate any grouped results like this. "
   ]
  }
 ],
 "metadata": {
  "kernelspec": {
   "display_name": "Python 3",
   "language": "python",
   "name": "python3"
  },
  "language_info": {
   "codemirror_mode": {
    "name": "ipython",
    "version": 3
   },
   "file_extension": ".py",
   "mimetype": "text/x-python",
   "name": "python",
   "nbconvert_exporter": "python",
   "pygments_lexer": "ipython3",
   "version": "3.5.1"
  }
 },
 "nbformat": 4,
 "nbformat_minor": 2
}
