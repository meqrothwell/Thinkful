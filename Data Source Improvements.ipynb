{
 "cells": [
  {
   "cell_type": "markdown",
   "metadata": {},
   "source": [
    "Data Source: Amsterdam availability data scraped from AirBnB on December 24th. Question: What are the popular neighborhoods in Amsterdam?\n",
    "\n",
    "This data source is likely to be biased towards younger people in Amsterdam for Christmas, since it's taken from AirBnB (and not a broader sampling of hotels or places to stay) and on Christmas Eve. The data could be skewed, for example, towards neighborhoods with many pubs or bars, or towards those with more churches holding a Christmas Eve service. To improve the data set, it could be collected from a wider sampling of hotels and over other dates throughout the year.\n",
    "\n",
    "-----\n",
    "\n",
    "Data Source: Mental health services use on September 12, 2001 in San Francisco, CA and New York City, NY. Question: How do patterns of mental health service use vary between cities?\n",
    "\n",
    "The mental health data collected on September 12, 2001 in New York is likely to be very extreme, since it was the day after the terrorist attacks. It's likely to be higher everywhere in the United States, although the difference would probably be more pronounced in New York since that was one of the attack sites. On a more \"normal\" day, the difference in the data of San Francisco and New York would probably be less than it was on this date. To improve the data, it should be collected on other dates and also in other areas of the country, since New York and San Francisco are not representative of the entire United States. \n",
    "\n",
    "-----\n",
    "\n",
    "Data Source: Armenian Pub Survey. Question: What are the most common reasons Armenians visit local pubs?\n",
    "\n",
    "All of the respondents are students. There should either be data collected on non-students or the question asked should be about students specifically. "
   ]
  }
 ],
 "metadata": {
  "kernelspec": {
   "display_name": "Python 3",
   "language": "python",
   "name": "python3"
  },
  "language_info": {
   "codemirror_mode": {
    "name": "ipython",
    "version": 3
   },
   "file_extension": ".py",
   "mimetype": "text/x-python",
   "name": "python",
   "nbconvert_exporter": "python",
   "pygments_lexer": "ipython3",
   "version": "3.5.1"
  }
 },
 "nbformat": 4,
 "nbformat_minor": 2
}
