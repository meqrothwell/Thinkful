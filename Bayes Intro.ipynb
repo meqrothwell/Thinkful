{
 "cells": [
  {
   "cell_type": "markdown",
   "metadata": {},
   "source": [
    "Test: 98% True positive\n",
    "      10% false positive\n",
    "      \n",
    "Population: 0.5% suffer from disease\n",
    "\n",
    "\n",
    "Administering the test to a person whose disease status is unknown:\n",
    "\n",
    "1. P(test result is positive) = (0.5% * 98%) + (99.5% * 10%) = (0.005 * .98) + ( .995 * .1) = .0049 + .0995 = .1044 = 10.44%\n",
    "\n",
    "2. P(correctly diagnose patient who has disease) = P(true diagnosis | disease) = .98 = 98%\n",
    "\n",
    "3. P(correctly ID someone who does not have disease) = P(false diagnosis | no disease) = .90 = 90%\n",
    "\n",
    "4. P(misdiagnose) = 1 - (P(true | disease) + P(false | no disease)) = 1 - ((.005 * .98) + (.9 * .995) = 1 - (.0049 + .8955) = 1 - .9004 = 0.0996 = 9.96%\n",
    "\n",
    "My answers do not match the given solutions... I think that the solutions are meant to uae \".995\" (1 - .5%) instead of \".955\", which accounts for the discrepancy. \n"
   ]
  }
 ],
 "metadata": {
  "kernelspec": {
   "display_name": "Python 3",
   "language": "python",
   "name": "python3"
  },
  "language_info": {
   "codemirror_mode": {
    "name": "ipython",
    "version": 3
   },
   "file_extension": ".py",
   "mimetype": "text/x-python",
   "name": "python",
   "nbconvert_exporter": "python",
   "pygments_lexer": "ipython3",
   "version": "3.5.1"
  }
 },
 "nbformat": 4,
 "nbformat_minor": 2
}
