{
 "cells": [
  {
   "cell_type": "markdown",
   "metadata": {},
   "source": [
    "# 5.4.1 Question Design"
   ]
  },
  {
   "cell_type": "markdown",
   "metadata": {},
   "source": [
    "## DRILL: Question Design  \n",
    "### **For each of the following, indicate the best question type to use and why.  **\n"
   ]
  },
  {
   "cell_type": "markdown",
   "metadata": {},
   "source": [
    "**Age** - Multiple Choice/Choose One if in drop down or similar; Write-in/Free response otherwise  \n",
    "**Gender** - multiple choice/choose one  \n",
    "**Income** - free response if open-ended; multiple choice if ranges/buckets are desired  \n",
    "**Dish Soap Opinions** - write in/free response  \n",
    "**Brand of dish soap used** - write in/free response  \n",
    "**Preference for dish soap brand with options** - multiple chioce/choose one or /choose multiple if desired for survey  \n",
    "**Pos v neg feelings about dish soap** - write in/free response, possibly following binary classifier  "
   ]
  },
  {
   "cell_type": "markdown",
   "metadata": {},
   "source": [
    "## Fixing Trump Questions"
   ]
  },
  {
   "cell_type": "markdown",
   "metadata": {},
   "source": [
    "**TQ: Do you believe the media fails to report on Democrats’ scandals?  **\n",
    "\n",
    "> This question presupposes that the survey participant believes there are scandals amongst Democrats and is a leading question implying that the media fails to report on them. A less-biased question could be: Do you believe that the media accurately reports on the conduct of all political parties?  \n",
    "  \n",
    "  \n",
    "**TQ: Do you believe that the media sensationalizes and exaggerates stories in order to paint President Trump and conservatives in a bad light?  **\n",
    "\n",
    "> This question uses flowery words to recruit the survey participant, leading them to take the side of the question's 'victim. A less-biased question could be: Do you believe that the media accurately reports on Trump and other conservatives?  \n",
    "\n",
    "\n",
    "**TQ: Do you believe that the media unfairly reported on President Trump’s executive order granting Americans the freedom to buy health care across state lines?  **\n",
    "\n",
    "> This question uses negative (unfairly) and positive (granting) wording to again recruit the survey participant. A less-biased question could be: Do you believe that the media was accurate in its reporting of Trump's executive order regarding the purchase of health care across state lines?  \n",
    "\n",
    "\n",
    "**TQ: Do you believe that the media has been too quick to spread false stories about our movement?  **\n",
    "\n",
    "> This question implies that false stories have been spread by the media, and that the survey participant agrees with that statement. A less-biased question could be: What is your opinion of the media's coverage of Trump's first month in office?  \n",
    "\n",
    "\n",
    "**TQ: Do you believe that the media sensationalizes and exaggerates stories in order to paint President Trump and conservatives in a bad light?  **\n",
    "\n",
    "> This question again uses flowery negative language to recruit the survey participant. A less-biased question could be: Do you think that the media has accurately portrayed Trump and conservatives?  \n",
    "\n",
    "**Conclusion: Really, this entire survey seems to be very flawed. Nearly all of the questions are leading, there is almost surely a selection bias, and many of the questions seem to be slight iterations of others. It seems that the enitre goal of this survey is to collect biased information to confirm that Trump and conservatives have been victim of the huge media bias that he loves to complain about. **"
   ]
  },
  {
   "cell_type": "markdown",
   "metadata": {},
   "source": [
    "# 5.4.3 Self Reporting Pros and Cons"
   ]
  },
  {
   "cell_type": "markdown",
   "metadata": {},
   "source": [
    "### State whether a survey would be the best option for answering each of the following questions:\n",
    "\n",
    "**Popularity of various Uber drivers.**  \n",
    "> The Uber star rating system, which is used to judge the popularity of Uber drivers, is inherently a survey, so a survey would indeed be the best option in answering this question. \n",
    "\n",
    "**A grocery store wants to know how much people like strawberry, chocolate, and vanilla ice cream.**  \n",
    "> A simple survey could answer this question. The store could ask shoppers about their ice cream preferences, with a possible small reward to combat self-selection, assuming the question is asking about how much people like ice cream in general, as opposed to their preference among these three flavors. If the question is the latter option, then self-selection may not be an issue, since theoretically people of any ice cream preference would be just as likely to answer a survey.\n",
    "\n",
    "**Trojan wants to know whether their condoms are more popular among straight people or gay people.**  \n",
    "> A properly designed survey would be effective in answering this question. With representative samples and proper weighting, asking respondents about their sexual orientation and condom preference would shed light on this question. \n",
    "\n",
    "**Recently, rental rates for HappyCars have increased by 30%, which is quite unusual. You want to find out why this is happening and how to keep the increase going.**  \n",
    "> To answer this question, a survey could be designed to ask customers and potential customers about changes they've seen in the company (its promotions, ads, etc) and how that makes them feel about renting a car from the company. It would also be interesting to run some supervised models on the data to see if this uptick in business is being caused by anything specific, such as a change in demographics, travel habits, etc. \n",
    "\n",
    "**Assessing the success rate of a new advertising campaign.**  \n",
    "> A survey would not be the best option in this case as you wouldn't want to draw attention to an advertising campaign in this way. Instead, analyzing sales or other results of the advertising campaign would be a better route to take. \n",
    "\n",
    "**Measuring the effect of nurse/patient ratio on patient recovery rates in hospital wards.**\n",
    "> A survey would not be best here, as diverse patient experiences and many other confounding factors could contribute to the survey responses. Instead, creating some measurable results that represent effectiveness and analyzing that data would be more effective and certianly less prone to self-selection and response bias.\n"
   ]
  }
 ],
 "metadata": {
  "kernelspec": {
   "display_name": "Python 3",
   "language": "python",
   "name": "python3"
  },
  "language_info": {
   "codemirror_mode": {
    "name": "ipython",
    "version": 3
   },
   "file_extension": ".py",
   "mimetype": "text/x-python",
   "name": "python",
   "nbconvert_exporter": "python",
   "pygments_lexer": "ipython3",
   "version": "3.5.1"
  }
 },
 "nbformat": 4,
 "nbformat_minor": 2
}
