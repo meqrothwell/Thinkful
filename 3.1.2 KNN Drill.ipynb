{
 "cells": [
  {
   "cell_type": "markdown",
   "metadata": {},
   "source": [
    "To predict on-time credit card payment using KNN and four different spending categories, I might use the amount spent in each category as features, and determine if there are clear predictive boundaries based on spending in each category. It could also be useful to pair the categories into essentials (groceries and utilities) and discretionary (dining out and entertainment) and test a model using those two features instead. It would also be interesting to look at consistency of month-to-month spending in categories and in total, and create a model that looks at if spending is within a consistent range, or look at how much the range fluctuates and if that is predictive of making on-time credit card payments. "
   ]
  },
  {
   "cell_type": "code",
   "execution_count": null,
   "metadata": {
    "collapsed": true
   },
   "outputs": [],
   "source": []
  }
 ],
 "metadata": {
  "kernelspec": {
   "display_name": "Python 3",
   "language": "python",
   "name": "python3"
  },
  "language_info": {
   "codemirror_mode": {
    "name": "ipython",
    "version": 3
   },
   "file_extension": ".py",
   "mimetype": "text/x-python",
   "name": "python",
   "nbconvert_exporter": "python",
   "pygments_lexer": "ipython3",
   "version": "3.5.1"
  }
 },
 "nbformat": 4,
 "nbformat_minor": 2
}
