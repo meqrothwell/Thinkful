{
 "cells": [
  {
   "cell_type": "markdown",
   "metadata": {},
   "source": [
    "#### To prevent cheating, a teacher writes three versions of a test. She stacks the three versions together, first all copies of Version A, then all copies of Version B, then all copies of Version C. As students arrive for the exam, each student takes a test. When grading the test, the teacher finds that students who took Version B scored higher than students who took either Version A or Version C. She concludes from this that Version B is easier, and discards it.\n"
   ]
  },
  {
   "cell_type": "markdown",
   "metadata": {},
   "source": [
    "**The Problem**\n",
    "I suspect that students in my class are cheating on tests by copying answers off of one another. In grading tests I have noticed that some groups of students perform much differently than other groups, and in some cases it seems to be related to where the students are seated when they take the test.\n",
    "\n",
    "\n",
    "**The Solution**\n",
    "I will create different versions of the test. \n",
    "\n",
    "\n",
    "**Testing the Solution**\n",
    "I will create five different versions of the test. To save me from having to create five completely different sets of questions and answers, I will instead use the same questions on all versions, but just mix up where they are in the test. I will also discreetly mark the test versions so that I know how to separate them when grading, but would be harder to detect by the students. I will then mix up the tests for distribution so that the order in which students receive the tests is random. Once grading is complete, I will compare the distribution of scores to that of previous tests and see if there is a significant difference. "
   ]
  },
  {
   "cell_type": "code",
   "execution_count": null,
   "metadata": {
    "collapsed": true
   },
   "outputs": [],
   "source": []
  }
 ],
 "metadata": {
  "kernelspec": {
   "display_name": "Python 3",
   "language": "python",
   "name": "python3"
  },
  "language_info": {
   "codemirror_mode": {
    "name": "ipython",
    "version": 3
   },
   "file_extension": ".py",
   "mimetype": "text/x-python",
   "name": "python",
   "nbconvert_exporter": "python",
   "pygments_lexer": "ipython3",
   "version": "3.5.1"
  }
 },
 "nbformat": 4,
 "nbformat_minor": 2
}
