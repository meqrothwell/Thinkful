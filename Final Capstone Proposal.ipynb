{
 "cells": [
  {
   "cell_type": "markdown",
   "metadata": {},
   "source": [
    "### What is the problem you are attempting to solve?\n",
    "\n",
    "* I will be attempting to predict if investing in stocks shortly after their IPO is a good long-term investment strategy. "
   ]
  },
  {
   "cell_type": "markdown",
   "metadata": {},
   "source": [
    "### How is your solution valuable?  \n",
    "\n",
    "* My solution is valuable for individual investors and investment companies alike. If it is indeed possible to predict whether investing in a stock will be profitable based on its movement after its IPO, individual investors could use infant stocks in their long-term portfolios and investment companies could use them in their mutual funds or similar products. "
   ]
  },
  {
   "cell_type": "markdown",
   "metadata": {},
   "source": [
    "### What is your data source and how will you access it?  \n",
    "\n",
    "* I will use Yahoo finance as my primary source of stock price data. I will scrape the pricing information based on the symbols that I choose to focus on (all IPOs within a set period of time).\n",
    "\n",
    "* I will also use stock information such as trade volume, sector, season in which the IPO took place, and total market capitalization in the machine learning portion of this project. This will also be accessible using Yahoo finance or a similar large platform. \n",
    "\n",
    "* For information on which stocks had their IPO in the time period, I will use information from IPOScoop.com. They provide a downloadable spreadsheet with basic information, including stock symbols and their IPO dates. "
   ]
  },
  {
   "cell_type": "markdown",
   "metadata": {},
   "source": [
    "### What techniques from the course do you anticipate using?  \n",
    "\n",
    "* I will use ARIMA modeling to model the stock price movement and project it further out. \n",
    "* I will use scraping techniques to acquire relevant information from Yahoo finance. \n",
    "* I will employ machine learning techniques and algorithms once the ARIMA modeling is complete and aggregated to predict whether or not investing in infant stocks is a generally wise decision. "
   ]
  },
  {
   "cell_type": "markdown",
   "metadata": {},
   "source": [
    "### What do you anticipate to be the biggest challenge you’ll face?  \n",
    "\n",
    "* When dealing with such a large number of ARIMA models, I could see it being challenging to automate a process that would determine good p, d, and q values for the ARIMA models. Doing that manually for nearly a thousand models would be very tedious, although certainly not impossible. "
   ]
  }
 ],
 "metadata": {
  "kernelspec": {
   "display_name": "Python 3",
   "language": "python",
   "name": "python3"
  },
  "language_info": {
   "codemirror_mode": {
    "name": "ipython",
    "version": 3
   },
   "file_extension": ".py",
   "mimetype": "text/x-python",
   "name": "python",
   "nbconvert_exporter": "python",
   "pygments_lexer": "ipython3",
   "version": "3.6.4"
  }
 },
 "nbformat": 4,
 "nbformat_minor": 2
}
