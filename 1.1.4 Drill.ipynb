{
 "cells": [
  {
   "cell_type": "markdown",
   "metadata": {},
   "source": [
    "### Question 1"
   ]
  },
  {
   "cell_type": "markdown",
   "metadata": {},
   "source": [
    "1) You work at an e-commerce company that sells three goods: widgets, doodads, and fizzbangs. The head of advertising asks you which they should feature in their new advertising campaign. You have data on individual visitors' sessions (activity on a website, pageviews, and purchases, as well as if those users converted from an advertisement for that session. You also have the cost and price information for the goods.\n"
   ]
  },
  {
   "cell_type": "markdown",
   "metadata": {},
   "source": [
    "I would calculate the conversion rates for customers who purchased widgets, doodads, and fizzbangs, also taking into account if the customer found the site or offer via a specific add or other means. If the prices of each of the goods fluctuated -- because of special offers, coupons, etc -- I would calculate the differences in conversions at each of the price points. Finally, I would compare the profit margins for each of the goods and take that into consideration when making my recommendation to the head of advertising. "
   ]
  },
  {
   "cell_type": "markdown",
   "metadata": {},
   "source": [
    "### Question 2"
   ]
  },
  {
   "cell_type": "markdown",
   "metadata": {},
   "source": [
    "2) You work at a web design company that offers to build websites for clients. Signups have slowed, and you are tasked with finding out why. The onboarding funnel has three steps: email and password signup, plan choice, and payment. On a user level you have information on what steps they have completed as well as timestamps for all of those events for the past 3 years. You also have information on marketing spend on a weekly level.\n"
   ]
  },
  {
   "cell_type": "markdown",
   "metadata": {},
   "source": [
    "I would use the funnel steps to see where the biggest dropoff in conversion to the next step occurs, and comapre that with the pattern that existed before our signups slowed. I would also take a look at the timestamps to see if users are spending an increased amount of time on a specific step, and look at the history to figure out why. For example, if we changed payment systems recently and users are spending more time on the payment step without converting, that may be because it is not as clear how to complete the process from a user perspective, causing loss in conversions. I would also check the completed onboarding steps against the marketing spend. If marketing spend has dropped, that could give a clear cause as to why signups have slowed. "
   ]
  },
  {
   "cell_type": "markdown",
   "metadata": {},
   "source": [
    "### Question 3"
   ]
  },
  {
   "cell_type": "markdown",
   "metadata": {},
   "source": [
    "3) You work at a hotel website and currently the website ranks search results by price. For simplicity's sake, let's say it's a website for one city with 100 hotels. You are tasked with proposing a better ranking system. You have session information, price information for the hotels, and whether each hotel is currently available.\n"
   ]
  },
  {
   "cell_type": "markdown",
   "metadata": {},
   "source": [
    "I would alter the ranking system so that it takes more into account than just the price. Availability should be figured into the algorithm in a significant way, as it's not much use to have a hotel's price if there are no rooms available. I would also give the user some choice in what hotels show up first. I would allow users to select hotels by amenities offered, proximity to other places of interest, and other preferences. "
   ]
  },
  {
   "cell_type": "markdown",
   "metadata": {},
   "source": [
    "### Question 4"
   ]
  },
  {
   "cell_type": "markdown",
   "metadata": {},
   "source": [
    "4) You work at a social network, and the management is worried about churn (users stopping using the product). You are tasked with finding out if their churn is atypical. You have three years of data for users with an entry for every time they've logged in, including the timestamp and length of session.\n"
   ]
  },
  {
   "cell_type": "markdown",
   "metadata": {},
   "source": [
    "I would ask management how they define 'atypical'. If they mean in comparison to our own service over time, that could be doable. If they mean it in more of an existential way, like if the churn is because of people losing interest in social networks in general, that could be a more difficult question since social networks are still relatively new. If it is compared to other social networks, that might be difficult as well, as the information from other services may not be accessible.\n",
    "\n",
    "If it indeed is in comparison to our own previous engagement, I would see if there is a dropoff in users' login frequency and length of session after a certain duration after initial signup. "
   ]
  },
  {
   "cell_type": "code",
   "execution_count": null,
   "metadata": {
    "collapsed": true
   },
   "outputs": [],
   "source": []
  }
 ],
 "metadata": {
  "kernelspec": {
   "display_name": "Python 3",
   "language": "python",
   "name": "python3"
  },
  "language_info": {
   "codemirror_mode": {
    "name": "ipython",
    "version": 3
   },
   "file_extension": ".py",
   "mimetype": "text/x-python",
   "name": "python",
   "nbconvert_exporter": "python",
   "pygments_lexer": "ipython3",
   "version": "3.5.1"
  }
 },
 "nbformat": 4,
 "nbformat_minor": 2
}
