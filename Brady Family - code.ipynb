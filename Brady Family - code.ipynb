{
 "cells": [
  {
   "cell_type": "code",
   "execution_count": 1,
   "metadata": {
    "collapsed": true
   },
   "outputs": [],
   "source": [
    "import matplotlib.pyplot as plt\n",
    "import numpy as np\n",
    "import pandas as pd\n",
    "%matplotlib inline"
   ]
  },
  {
   "cell_type": "code",
   "execution_count": 17,
   "metadata": {
    "collapsed": true
   },
   "outputs": [],
   "source": [
    "ages = [14, 12, 11, 10, 8, 6, 8]"
   ]
  },
  {
   "cell_type": "code",
   "execution_count": 23,
   "metadata": {},
   "outputs": [
    {
     "name": "stdout",
     "output_type": "stream",
     "text": [
      "mean: 9.85714285714\n",
      "median: 10.0\n",
      "variance: 6.40816326531\n",
      "std: 2.53143502095\n",
      "standard error: 0.421905836825\n"
     ]
    }
   ],
   "source": [
    "print(\"mean:\", np.mean(ages))\n",
    "print(\"median:\", np.median(ages))\n",
    "print('variance:', np.var(ages))\n",
    "print('std:', np.std(ages))\n",
    "print('standard error:', np.std(ages)/(len(ages)-1))"
   ]
  },
  {
   "cell_type": "code",
   "execution_count": 26,
   "metadata": {},
   "outputs": [
    {
     "name": "stdout",
     "output_type": "stream",
     "text": [
      "mean: 10.0\n",
      "median: 10.0\n",
      "variance: 5.42857142857\n",
      "std: 2.32992949004\n",
      "standard error: 0.388321581674\n"
     ]
    }
   ],
   "source": [
    "ages_bd = [14, 12, 11, 10, 8, 7, 8]\n",
    "print(\"mean:\", np.mean(ages_bd))\n",
    "print(\"median:\", np.median(ages_bd))\n",
    "print('variance:', np.var(ages_bd))\n",
    "print('std:', np.std(ages_bd))\n",
    "print('standard error:', np.std(ages_bd)/(len(ages_bd)-1))"
   ]
  },
  {
   "cell_type": "code",
   "execution_count": 27,
   "metadata": {},
   "outputs": [
    {
     "name": "stdout",
     "output_type": "stream",
     "text": [
      "mean: 9.0\n",
      "median: 10.0\n",
      "variance: 15.4285714286\n",
      "std: 3.92792202425\n",
      "standard error: 0.654653670708\n"
     ]
    }
   ],
   "source": [
    "ages_jessica = [14, 12, 11, 10, 8, 7, 1]\n",
    "print(\"mean:\", np.mean(ages_jessica))\n",
    "print(\"median:\", np.median(ages_jessica))\n",
    "print('variance:', np.var(ages_jessica))\n",
    "print('std:', np.std(ages_jessica))\n",
    "print('standard error:', np.std(ages_jessica)/(len(ages_jessica)-1))"
   ]
  },
  {
   "cell_type": "code",
   "execution_count": null,
   "metadata": {
    "collapsed": true
   },
   "outputs": [],
   "source": []
  }
 ],
 "metadata": {
  "kernelspec": {
   "display_name": "Python 3",
   "language": "python",
   "name": "python3"
  },
  "language_info": {
   "codemirror_mode": {
    "name": "ipython",
    "version": 3
   },
   "file_extension": ".py",
   "mimetype": "text/x-python",
   "name": "python",
   "nbconvert_exporter": "python",
   "pygments_lexer": "ipython3",
   "version": "3.5.1"
  }
 },
 "nbformat": 4,
 "nbformat_minor": 2
}
