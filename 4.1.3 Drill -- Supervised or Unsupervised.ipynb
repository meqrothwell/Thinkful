{
 "cells": [
  {
   "cell_type": "markdown",
   "metadata": {},
   "source": [
    "(1) Define the likelihood that an individual will contract a specific disease  \n",
    "\n",
    "Supervised. The outcome is \"specific disease, yes or no\" and factors could be age, smoking habits, weight, genetics, etc. "
   ]
  },
  {
   "cell_type": "markdown",
   "metadata": {},
   "source": [
    "(2) Translate a set of images into variables for modeling  \n",
    "\n",
    "Unsupervised. Dealing with image recognition and translating them into variables. Perhaps if the variables are predefined, this could have a flavor of being supervised?"
   ]
  },
  {
   "cell_type": "markdown",
   "metadata": {},
   "source": [
    "(3) An ecommerce company wants to identify power users  \n",
    "\n",
    "Supervised, assuming there is a predefined definition of \"power users\" that includes features that are already known, such as time or money spent on the site. If \"power users\" is not defined at all, then this could be unsupervised. "
   ]
  },
  {
   "cell_type": "markdown",
   "metadata": {},
   "source": [
    "(4) That same company wants to see shopping patterns in users  \n",
    "\n",
    "Unsupervised. This seems to want to investigate what shoppers are doing, but not necessarily with any predefined outcome in mind."
   ]
  },
  {
   "cell_type": "markdown",
   "metadata": {},
   "source": [
    "(5) You want to reduce the number of variables inputting into your random forest model  \n",
    "\n",
    "Unsupervised, leading to supervised usage. This would be an example of using unsupervised learning for Principal Components Analysis or feature reduction. "
   ]
  }
 ],
 "metadata": {
  "kernelspec": {
   "display_name": "Python 3",
   "language": "python",
   "name": "python3"
  }
 },
 "nbformat": 4,
 "nbformat_minor": 2
}
