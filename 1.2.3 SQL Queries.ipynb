{
 "cells": [
  {
   "cell_type": "markdown",
   "metadata": {},
   "source": [
    "What was the hottest day in our data set? Where was that?\n",
    "\n",
    "select\n",
    "\tdate, \n",
    "\tZIP,\n",
    "\tmax(MaxTemperatureF)\n",
    "from\n",
    "\tweather"
   ]
  },
  {
   "cell_type": "markdown",
   "metadata": {},
   "source": [
    "How many trips started at each station?\n",
    "\n",
    "select\n",
    "\tcount(trip_id) trips\n",
    "from\n",
    "\ttrips\n",
    "group by \n",
    "\tstart_station"
   ]
  },
  {
   "cell_type": "markdown",
   "metadata": {},
   "source": [
    "What's the shortest trip that happened?\n",
    "\n",
    "select\n",
    "\tmin(duration)\n",
    "from\n",
    "\ttrips"
   ]
  },
  {
   "cell_type": "markdown",
   "metadata": {},
   "source": [
    "What is the average trip duration, by end station?\n",
    "\n",
    "select\n",
    "\tavg(duration) average\n",
    "from\n",
    "\ttrips\n",
    "group by \n",
    "\tend_station"
   ]
  }
 ],
 "metadata": {
  "kernelspec": {
   "display_name": "Python 3",
   "language": "python",
   "name": "python3"
  },
  "language_info": {
   "codemirror_mode": {
    "name": "ipython",
    "version": 3
   },
   "file_extension": ".py",
   "mimetype": "text/x-python",
   "name": "python",
   "nbconvert_exporter": "python",
   "pygments_lexer": "ipython3",
   "version": "3.5.1"
  }
 },
 "nbformat": 4,
 "nbformat_minor": 2
}
