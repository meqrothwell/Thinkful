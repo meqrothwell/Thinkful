{
 "cells": [
  {
   "cell_type": "markdown",
   "metadata": {},
   "source": [
    "**Data context**\n",
    "\n",
    "In India, as in some other Asian cultures, feticide has been a historically prevalent practice. Traditionally, male offspring were perceived to have greated value than female, resulting in the killing of infant girls, or more recently as sex testing in the womb has become available, prenatal girls. There are a number of reasons that people give for continuing this practice, but thankfully it is becoming much less widespread. \n",
    "\n",
    "\n",
    "**The Problem**\n",
    "\n",
    "From a moral perspective, this is clearly an awful practice and the problem -- that newborns should not be killed based simply on their gender -- is obvious. One of the main methods of combatting this practice, according to a survey of people living in India, is to strengthen policies and enforce laws against it. To create more effective policies, more data is needed, and that data needs to be examined for useful correlations. \n",
    "\n",
    "\n",
    "**The Potential Solution**\n",
    "\n",
    "I predict that the education level of people in different cities will have a strong correlation with decreasing frequency of the feticide practice. My theory is that the more educated the population, the more equal the child sex ratio, and thus the fewer feticide occurrences we will see. \n",
    "\n",
    "\n",
    "**The Method of Testing the Solution**\n",
    "\n",
    "The data is organized by city, but since I would like equal population sample sizes, I will divide the population totals in half. This will result in many more cities in one half, since the larger cities will contribute more to the population total. I will then calculate the graduate and literacy rates of each sample and perform a t-test to compare them, paired with the p-value. I will then look at the child sex ratio of the different samples and perform t- and p-tests to see if there is a significant difference. (I will use the child sex ratio instead of the overall sex ratio because this will give a clearer snapshot of children being born in these cities, rather than including those who may have moved there for various reasons.) If there are significant differences in both education and child sex ratios, I can conclude that increased education levels is correlated with lower feticide. \n",
    "\n",
    "It is worth noting that looking at the child sex ratio is a proxy for feticide rates. Since data for actual feticide could be skewed by many factors and difficult to obtain, having a proxy of resulting population rates may be more effective. \n",
    "\n",
    "To check against Simpson's Paradox, I will also calculate literacy rates and sex ratios for each of India's 29 states. I am curious to see if local laws or other regional factors seem to have any effect on these rates. \n"
   ]
  },
  {
   "cell_type": "code",
   "execution_count": null,
   "metadata": {
    "collapsed": true
   },
   "outputs": [],
   "source": []
  }
 ],
 "metadata": {
  "kernelspec": {
   "display_name": "Python 3",
   "language": "python",
   "name": "python3"
  },
  "language_info": {
   "codemirror_mode": {
    "name": "ipython",
    "version": 3
   },
   "file_extension": ".py",
   "mimetype": "text/x-python",
   "name": "python",
   "nbconvert_exporter": "python",
   "pygments_lexer": "ipython3",
   "version": "3.5.1"
  }
 },
 "nbformat": 4,
 "nbformat_minor": 2
}
