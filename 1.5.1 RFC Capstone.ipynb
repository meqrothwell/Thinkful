{
 "cells": [
  {
   "cell_type": "markdown",
   "metadata": {},
   "source": [
    "**The Problem**\n",
    "\n",
    "In India, as in some other Asian cultures, feticide is a somewhat common practice. This is when female infants or prenatal girls are killed because of a preference for male children, especially among firstborns. There are a number of reasons that people give for continuing this practice, but certainly in the age of globalization, is becoming viewed less and less favorably. \n",
    "\n",
    "**The Potential Solution**\n",
    "\n",
    "I predict that the education level of people in different cities will have a strong correlation with decreasing frequency of the feticide practice. My theory is that the more educated the population, the fewer occurrences we will see of the practice. \n",
    "\n",
    "**The Method of Testing the Solution**\n",
    "\n",
    "I will first divide the 500 cities in half, so will have 250 in each sample. I will calculate the rates of residents who are graduates and those who are literate. This will give me rates at two different levels of education. I would expect these rates to have a very strong correlation with one another. If the rates between the two complete halves of the population are too similar, I will take the top and bottom 25% of the population as samples and test them against each other. This will result in samples of 125 cities each, but eliminate the noise in the middle of the population. \n",
    "\n",
    "As a proxy for feticide rates, I will look at the proportions of males and females in each city. Since data for actual feticide could be skewed by many factors and difficult to obtain, having a proxy of resulting population rates may be more effective. \n",
    "\n",
    "I'm also curious to see if city population has any effect on feticide/population rates. I would predict that larger cities are more educated in general, and would therefore have more similar population rates and thus a lower rate of feticide. \n",
    "\n",
    "\n",
    "\n",
    "Keep in mind Simpson's Paradox.\n",
    "\n",
    "Time effect...feticide rates may take some number of years to show up in the population, especially when related to education. 0-6 stats "
   ]
  },
  {
   "cell_type": "code",
   "execution_count": null,
   "metadata": {
    "collapsed": true
   },
   "outputs": [],
   "source": [
    "\n",
    "\n"
   ]
  }
 ],
 "metadata": {
  "kernelspec": {
   "display_name": "Python 3",
   "language": "python",
   "name": "python3"
  },
  "language_info": {
   "codemirror_mode": {
    "name": "ipython",
    "version": 3
   },
   "file_extension": ".py",
   "mimetype": "text/x-python",
   "name": "python",
   "nbconvert_exporter": "python",
   "pygments_lexer": "ipython3",
   "version": "3.5.1"
  }
 },
 "nbformat": 4,
 "nbformat_minor": 2
}
